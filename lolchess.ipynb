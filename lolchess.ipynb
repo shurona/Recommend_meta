{
 "cells": [
  {
   "cell_type": "code",
   "execution_count": 2,
   "metadata": {},
   "outputs": [],
   "source": [
    "from urllib.request import urlopen\n",
    "# from selenium import webdriver as wd \n",
    "from bs4 import BeautifulSoup\n",
    "from tqdm import tqdm\n",
    "\n",
    "import itertools\n",
    "import pandas as pd\n",
    "import numpy as np\n",
    "import requests\n",
    "import time\n",
    "import copy\n",
    "import re"
   ]
  },
  {
   "cell_type": "markdown",
   "metadata": {},
   "source": [
    "## 현재 존재하는 아이템 리스트 가져오기"
   ]
  },
  {
   "cell_type": "code",
   "execution_count": 3,
   "metadata": {},
   "outputs": [],
   "source": [
    "def make_itemlist():\n",
    "    url = 'https://lolchess.gg/items'\n",
    "    hdr = {'Accept-Language' : 'Ko_KR', 'User-Agent': 'Mozilla/5.0 (Windows NT 10.0; Win64; x64) AppleWebKit/537.36 (KHTML, like Gecko) Chrome/87.0.4280.88 Safari/537.36'}\n",
    "    req = requests.get(url, headers = hdr)\n",
    "    html = req.text\n",
    "    soup = BeautifulSoup(html, 'html.parser')\n",
    "\n",
    "    itemdict = {}\n",
    "    for i in soup.find_all('div',{'class':'col-sm-6'}): \n",
    "        arr = []\n",
    "        for index, item in enumerate(i.select('img')):\n",
    "            if index == 2:\n",
    "                itemdict[item.get('alt')] = arr[:]\n",
    "            else:\n",
    "                arr.append(item.get('alt'))\n",
    "        arr.clear()\n",
    "    return itemdict"
   ]
  },
  {
   "cell_type": "code",
   "execution_count": 4,
   "metadata": {},
   "outputs": [
    {
     "data": {
      "text/plain": [
       "{'죽음의 검': ['B.F. 대검', 'B.F. 대검'],\n",
       " '거인 학살자': ['곡궁', 'B.F. 대검'],\n",
       " '수호 천사': ['쇠사슬 조끼', 'B.F. 대검'],\n",
       " '피바라기': ['음전자 망토', 'B.F. 대검'],\n",
       " '마법공학 총검': ['쓸데없이 큰 지팡이', 'B.F. 대검'],\n",
       " '쇼진의 창': ['여신의 눈물', 'B.F. 대검'],\n",
       " '지크의 전령': ['거인의 허리띠', 'B.F. 대검'],\n",
       " '신성의 검': ['뒤집개', 'B.F. 대검'],\n",
       " '무한의 대검': ['연습용 장갑', 'B.F. 대검'],\n",
       " '고속 연사포': ['곡궁', '곡궁'],\n",
       " '거인의 결의': ['쇠사슬 조끼', '곡궁'],\n",
       " '루난의 허리케인': ['음전자 망토', '곡궁'],\n",
       " '구인수의 격노검': ['쓸데없이 큰 지팡이', '곡궁'],\n",
       " '스태틱의 단검': ['여신의 눈물', '곡궁'],\n",
       " '즈롯 차원문': ['거인의 허리띠', '곡궁'],\n",
       " '결투가의 열정': ['뒤집개', '곡궁'],\n",
       " '최후의 속삭임': ['연습용 장갑', '곡궁'],\n",
       " '덤불 조끼': ['쇠사슬 조끼', '쇠사슬 조끼'],\n",
       " '가고일 돌갑옷': ['음전자 망토', '쇠사슬 조끼'],\n",
       " '강철의 솔라리 펜던트': ['쓸데없이 큰 지팡이', '쇠사슬 조끼'],\n",
       " '얼어붙은 심장': ['여신의 눈물', '쇠사슬 조끼'],\n",
       " '태양불꽃 망토': ['거인의 허리띠', '쇠사슬 조끼'],\n",
       " '수호자의 흉갑': ['뒤집개', '쇠사슬 조끼'],\n",
       " '침묵의 장막': ['연습용 장갑', '쇠사슬 조끼'],\n",
       " '용의 발톱': ['음전자 망토', '음전자 망토'],\n",
       " '이온 충격기': ['쓸데없이 큰 지팡이', '음전자 망토'],\n",
       " '힘의 성배': ['여신의 눈물', '음전자 망토'],\n",
       " '서풍': ['거인의 허리띠', '음전자 망토'],\n",
       " '나무정령 새싹': ['뒤집개', '음전자 망토'],\n",
       " '수은': ['연습용 장갑', '음전자 망토'],\n",
       " '라바돈의 죽음모자': ['쓸데없이 큰 지팡이', '쓸데없이 큰 지팡이'],\n",
       " '루덴의 메아리': ['여신의 눈물', '쓸데없이 큰 지팡이'],\n",
       " '모렐로노미콘': ['거인의 허리띠', '쓸데없이 큰 지팡이'],\n",
       " '용의 정령': ['뒤집개', '쓸데없이 큰 지팡이'],\n",
       " '보석 건틀릿': ['연습용 장갑', '쓸데없이 큰 지팡이'],\n",
       " '푸른 파수꾼': ['여신의 눈물', '여신의 눈물'],\n",
       " '구원': ['거인의 허리띠', '여신의 눈물'],\n",
       " '요술사의 모자': ['뒤집개', '여신의 눈물'],\n",
       " '정의의 손길': ['연습용 장갑', '여신의 눈물'],\n",
       " '워모그의 갑옷': ['거인의 허리띠', '거인의 허리띠'],\n",
       " '대장군의 깃발': ['뒤집개', '거인의 허리띠'],\n",
       " '덫 발톱': ['연습용 장갑', '거인의 허리띠'],\n",
       " '대자연의 힘': ['뒤집개', '뒤집개'],\n",
       " '요우무의 유령검': ['연습용 장갑', '뒤집개'],\n",
       " '도적의 장갑': ['연습용 장갑', '연습용 장갑']}"
      ]
     },
     "execution_count": 4,
     "metadata": {},
     "output_type": "execute_result"
    }
   ],
   "source": [
    "make_itemlist()"
   ]
  },
  {
   "cell_type": "markdown",
   "metadata": {},
   "source": [
    "## 아이템 리스트 불러오기"
   ]
  },
  {
   "cell_type": "code",
   "execution_count": 5,
   "metadata": {},
   "outputs": [],
   "source": [
    "item_list = make_itemlist()\n",
    "a = set()\n",
    "for key, value in item_list.items():\n",
    "    for i in value:\n",
    "        a.add(i)\n",
    "a = list(a)\n",
    "a.sort()\n",
    "small_itemlist=a"
   ]
  },
  {
   "cell_type": "code",
   "execution_count": 6,
   "metadata": {},
   "outputs": [
    {
     "data": {
      "text/plain": [
       "['B.F. 대검',\n",
       " '거인의 허리띠',\n",
       " '곡궁',\n",
       " '뒤집개',\n",
       " '쇠사슬 조끼',\n",
       " '쓸데없이 큰 지팡이',\n",
       " '여신의 눈물',\n",
       " '연습용 장갑',\n",
       " '음전자 망토']"
      ]
     },
     "execution_count": 6,
     "metadata": {},
     "output_type": "execute_result"
    }
   ],
   "source": [
    "small_itemlist"
   ]
  },
  {
   "cell_type": "markdown",
   "metadata": {},
   "source": [
    "## 합친 아이템을 분해해서 구성요소를 볼 수 있는 함수"
   ]
  },
  {
   "cell_type": "code",
   "execution_count": 7,
   "metadata": {},
   "outputs": [],
   "source": [
    "def decomposition_item(item_list,arr):\n",
    "    small_item = []\n",
    "    for full in arr:\n",
    "        if full in item_list:\n",
    "            small_item.append(item_list[full][0])\n",
    "            small_item.append(item_list[full][1])\n",
    "        else:\n",
    "            small_item.append(full)\n",
    "        small_item.sort()\n",
    "\n",
    "    return small_item"
   ]
  },
  {
   "cell_type": "code",
   "execution_count": null,
   "metadata": {},
   "outputs": [],
   "source": []
  },
  {
   "cell_type": "markdown",
   "metadata": {},
   "source": [
    "## Beautiful Soup을 이용하여서 상위 티어의 아이템/ 시너지/ 승률 가져오기"
   ]
  },
  {
   "cell_type": "code",
   "execution_count": 67,
   "metadata": {},
   "outputs": [],
   "source": [
    "# url을 이용하여서 html을 받아오는 함수\n",
    "def rcv_sp(hdr, url, check):\n",
    "    req = requests.get(url, headers = hdr)\n",
    "    sp = BeautifulSoup(req.text, 'html.parser')\n",
    "    \n",
    "    if check == 1:\n",
    "        return sp\n",
    "    else : \n",
    "        return sp.find('div',{'class' : 'profile__match-history-v2__filters'}).select('a')[1]['href']\n",
    "\n",
    "#해당 게임의 아이템을 받아오는 함수     \n",
    "def rcv_items(itemsp):\n",
    "    itemlist = []\n",
    "    for i in itemsp:\n",
    "        tp = i.select('.item')\n",
    "        if len(tp) == 0:\n",
    "            continue\n",
    "        for items in tp:\n",
    "            itemlist.append(items['title'])\n",
    "    return itemlist\n",
    "\n",
    "#해당 게임의 조합을 받아오는 함수\n",
    "def rcv_traits(traitsp):\n",
    "    traitslist = []\n",
    "    for i in traitsp:\n",
    "        traitslist.append(i.find('img')['alt'])\n",
    "        \n",
    "    return traitslist\n",
    "    \n",
    "#해당 게임의 챔프들을 받아오는 함수\n",
    "def rcv_units(unitsp):\n",
    "    unitlist = []\n",
    "    for i in unitsp:\n",
    "        unitlist.append(i.find('img')['alt'])\n",
    "    \n",
    "    return unitlist\n",
    "\n",
    "\n",
    "def print_list(arr):\n",
    "    for i in arr:\n",
    "        print(i)\n",
    "    \n",
    "def main_func():\n",
    "    url = 'https://lolchess.gg/leaderboards'\n",
    "    hdr = {'Accept-Language' : 'Ko_KR', 'User-Agent': 'Mozilla/5.0 (Windows NT 10.0; Win64; x64) AppleWebKit/537.36 (KHTML, like Gecko) Chrome/87.0.4280.88 Safari/537.36'}\n",
    "    req = requests.get(url, headers = hdr)\n",
    "    soup = (BeautifulSoup(req.text,'html.parser'))\n",
    "    #데이터를 저장할 배열\n",
    "    save_data = []\n",
    "    for i in tqdm(soup.find('tbody').select('a')):\n",
    "        #처음에 i 에서 유저의 정보를 받아서 이 유저의 랭크의 soup를 받아온다\n",
    "        sp = rcv_sp(hdr,rcv_sp(hdr,i['href'],0),1)\n",
    "        #하나씩 저장\n",
    "        temp_data = []\n",
    "        for j in sp.select('.profile__match-history-v2__item'):\n",
    "            #rank :  순위\n",
    "            rank = j.find('div',{'class':'placement'}).text.strip()[1]\n",
    "            #traits : 조합\n",
    "            traits = rcv_traits(j.select('.tft-hexagon-image'))\n",
    "            #unit : 챔프\n",
    "            units = rcv_units(j.select('.tft-champion'))\n",
    "            \n",
    "            items = rcv_items(j.select('.items'))\n",
    "            temp_data.append(rank)\n",
    "            temp_data.append(traits)\n",
    "            temp_data.append(items)\n",
    "            temp_data.append(units)\n",
    "            save_data.append(temp_data[:])\n",
    "            temp_data.clear()\n",
    "\n",
    "#         print_list(save_data)\n",
    "    return save_data    \n",
    "    "
   ]
  },
  {
   "cell_type": "code",
   "execution_count": 68,
   "metadata": {},
   "outputs": [
    {
     "name": "stderr",
     "output_type": "stream",
     "text": [
      "100%|██████████| 100/100 [02:57<00:00,  1.78s/it]\n"
     ]
    }
   ],
   "source": [
    "data = main_func()"
   ]
  },
  {
   "cell_type": "code",
   "execution_count": null,
   "metadata": {},
   "outputs": [],
   "source": []
  },
  {
   "cell_type": "markdown",
   "metadata": {},
   "source": [
    "## 메인 조합을 불러오기"
   ]
  },
  {
   "cell_type": "code",
   "execution_count": 69,
   "metadata": {},
   "outputs": [],
   "source": [
    "def find_meta(item_dict):\n",
    "\n",
    "#     driver = wd.Chrome(executable_path=\"/mnt/c/Users/shurona/Documents/chromedriver.exe\")\n",
    "    url = 'https://lolchess.gg/meta'\n",
    "#     driver.get(url)\n",
    "    hdr = {'Accept-Language' : 'Ko_KR'}\n",
    "    req = requests.get(url, headers = hdr)\n",
    "    html = req.text\n",
    "    soup = BeautifulSoup(html, 'html.parser')\n",
    "    \n",
    "    tp = soup.find(\"div\",{\"class\" : \"container-full\"})\n",
    "    \n",
    "    #최종 저장 리스트\n",
    "    final_set = []\n",
    "    \n",
    "    #각각의 내용을 저장할 장소\n",
    "    title = {}\n",
    "    Configuration = []\n",
    "    champ_list = []\n",
    "    items_list = []\n",
    "    main_johap = []\n",
    "    small_title = []\n",
    "    #페이지의 메타를 정리해놓은 표에서 시너지 별로 표를 정리한다. \n",
    "    for i,v in enumerate(tp.select('div[class=guide-meta__deck]')):\n",
    "        #sub 리스트 \n",
    "        sub = []\n",
    "        \n",
    "        #공백 지우기 \n",
    "        del_blank = v.find('div',{\"class\" : \"guide-meta__deck__column name mr-3\"}).text.strip()\n",
    "    \n",
    "        #데이터를 저장할 리스트들\n",
    "        johap_name=''\n",
    "        \n",
    "        #조합 모으기\n",
    "        for find_togle in v.select(\".tft-hexagon-image\"):\n",
    "            num = (find_togle.get('data-tooltip-url')[-1])\n",
    "            word = (find_togle.find('img', alt = True)['alt'])\n",
    "            Configuration.append(str(num) + \" \" + word)\n",
    "        \n",
    "        #챔프 모으기 \n",
    "        for find_champ in v.select(\".tft-champion\"):\n",
    "            name = find_champ.find('img', alt=True)['alt']\n",
    "            champ_list.append(name)\n",
    "\n",
    "        #아이템 모으기\n",
    "        for find_item in v.select(\".tft-items\"):\n",
    "            t = find_item.select('img')\n",
    "            if len(t) == 0:\n",
    "                continue\n",
    "            for trash in t:\n",
    "                trash['alt']\n",
    "        \n",
    "        count = 0\n",
    "        for index,value in enumerate(del_blank):\n",
    "        \n",
    "            if ord('가') <= ord(value) <= ord('힣'):\n",
    "                if count == 0:\n",
    "                    start = index\n",
    "                count=1\n",
    "            else:\n",
    "                if count == 1:\n",
    "                    johap_name = johap_name+(''.join(del_blank[start:index]))\n",
    "                    count = 0\n",
    "        if count == 1:\n",
    "#             small_title.append(del_blank[start:])\n",
    "            johap_name = johap_name+(del_blank[start:])\n",
    "            \n",
    "        small_title.append(johap_name)\n",
    "            \n",
    "        for item in v.find_all('div',{'class':'tft-items'}):\n",
    "            items = item.find_all('img')\n",
    "            if len(items) == 0:\n",
    "                continue\n",
    "            for tem in items:\n",
    "                items_list.append(tem.get('alt'))\n",
    "                \n",
    "                \n",
    "        sub.append(Configuration[:])\n",
    "        sub.append(champ_list[:])\n",
    "        sub.append(items_list[:])\n",
    "        main_johap.append(sub[:])\n",
    "#         title['구성'] = Configuration[:]\n",
    "#         title['챔피언'] = champ_list[:]\n",
    "#         title['아이템'] = items_list[:]\n",
    "\n",
    "        final_set.append(title.copy())\n",
    "        \n",
    "\n",
    "        champ_list.clear()\n",
    "        Configuration.clear()\n",
    "        items_list.clear()\n",
    "        title.clear()\n",
    "        sub.clear()\n",
    "\n",
    "    main_johap.append(small_title)\n",
    "    return main_johap"
   ]
  },
  {
   "cell_type": "code",
   "execution_count": 70,
   "metadata": {},
   "outputs": [],
   "source": [
    "final_set = find_meta(item_list)"
   ]
  },
  {
   "cell_type": "code",
   "execution_count": 71,
   "metadata": {},
   "outputs": [
    {
     "name": "stdout",
     "output_type": "stream",
     "text": [
      "[['8 싸움꾼', '1 우두머리', '1 대장장이', '3 나무정령'], ['마오카이', '탐 켄치', '바이', '누누와 윌럼프', '쉬바나', '초가스', '세트', '오른'], ['마법공학 총검', '태양불꽃 망토', '루난의 허리케인', '구인수의 격노검', '정의의 손길', '보석 건틀릿', '마법공학 총검', '정의의 손길']]\n",
      "[['9 광신도'], ['트위스티드 페이트', '엘리스', '블라디미르', '파이크', '시비르', '칼리스타', '아트록스', '질리언'], ['지크의 전령', '루난의 허리케인', '정의의 손길', '고속 연사포', '루난의 허리케인', '구인수의 격노검', '가고일 돌갑옷', '태양불꽃 망토']]\n",
      "[['9 대장군', '1 무모한 자', '1 황제', '3 학살자', '2 귀감', '2 암살자', '2 명사수'], ['가렌', '니달리', '바이', '자르반 4세', '파이크', '카타리나', '트린다미어', '사미라', '아지르'], ['수은', '마법공학 총검', '거인의 결의', '대장군의 깃발', '루난의 허리케인', '수호 천사', '힘의 성배', '지크의 전령']]\n",
      "[['7 요술사', '1 대장장이', '3 용의 영혼', '3 나무정령', '2 선봉대'], ['브랜드', '트위스티드 페이트', '룰루', '브라움', '애니', '베이가', '아우렐리온 솔', '오른'], ['힘의 성배', '힘의 성배', '태양불꽃 망토', '용의 발톱', '거인의 결의', '보석 건틀릿', '마법공학 총검', '수호 천사']]\n",
      "[['4 처형자', '4 신성', '2 영혼', '2 조율자', '2 결투가', '2 신비술사', '1 닌자'], ['잭스', '유미', '이렐리아', '킨드레드', '쉔', '자야', '케일', '리 신'], ['힘의 성배', '지크의 전령', '즈롯 차원문', '거인 학살자', '루난의 허리케인', '구인수의 격노검', '고속 연사포', '수은', '푸른 파수꾼']]\n",
      "[['3 처형자', '3 조율자', '4 신성', '2 영혼', '2 신비술사', '1 추방자', '1 닌자'], ['유미', '이렐리아', '킨드레드', '쉔', '자야', '케일', '리 신', '요네'], ['힘의 성배', '지크의 전령', '구인수의 격노검', '고속 연사포', '수은', '모렐로노미콘', '푸른 파수꾼', '마법공학 총검']]\n",
      "[['1 무모한 자', '1 대장장이', '4 선봉대', '3 광신도', '3 용의 영혼', '3 학살자', '2 명사수'], ['트리스타나', '브라움', '파이크', '세주아니', '아트록스', '올라프', '사미라', '오른', '질리언'], ['모렐로노미콘', '태양불꽃 망토', '루난의 허리케인', '수호 천사', '죽음의 검', '정의의 손길', '최후의 속삭임', '수호 천사']]\n",
      "[['6 대장군', '1 무모한 자', '1 황제', '3 학살자', '2 결투가', '2 귀감', '2 명사수'], ['니달리', '자르반 4세', '카타리나', '올라프', '트린다미어', '리 신', '사미라', '아지르'], ['마법공학 총검', '거인의 결의', '수은', '수호 천사', '루난의 허리케인', '거인 학살자', '정의의 손길', '최후의 속삭임']]\n",
      "[['9 나무정령', '1 우두머리', '1 대장장이', '2 싸움꾼', '2 귀감'], ['마오카이', '라칸', '룰루', '누누와 윌럼프', '베이가', '자야', '세트', '오른'], ['태양불꽃 망토', '마법공학 총검', '거인 학살자', '정의의 손길', '수호 천사', '나무정령 새싹', '보석 건틀릿', '무한의 대검']]\n",
      "[['4 신비술사', '3 우화', '4 선봉대'], ['노틸러스', '잔나', '니코', '유미', '세주아니', '아트록스', '초가스', '질리언'], ['덤불 조끼', '태양불꽃 망토', '이온 충격기', '보석 건틀릿', '무한의 대검', '수호 천사', '태양불꽃 망토', '모렐로노미콘']]\n",
      "[['9 용의 영혼', '1 무모한 자', '2 명사수'], ['브랜드', '트리스타나', '브라움', '쉬바나', '아우렐리온 솔', '올라프', '사미라', '스웨인'], ['구인수의 격노검', '고속 연사포', '루난의 허리케인', '용의 정령', '루난의 허리케인', '마법공학 총검', '용의 발톱', '워모그의 갑옷']]\n",
      "[['6 결투가', '3 조율자', '2 추방자', '2 신성', '2 선지자', '1 닌자'], ['야스오', '피오라', '잭스', '이렐리아', '칼리스타', '쉔', '리 신', '요네'], ['정의의 손길', '수은', '수호 천사', '구인수의 격노검', '고속 연사포', '루난의 허리케인', '푸른 파수꾼', '마법공학 총검', '푸른 파수꾼']]\n",
      "[['4 흡수자', '4 선지자', '2 신성', '2 암살자', '2 조율자', '2 신비술사', '1 닌자'], ['나서스', '잔나', '파이크', '이렐리아', '모르가나', '쉔', '탈론', '스웨인'], ['모렐로노미콘', '푸른 파수꾼', '힘의 성배', '무한의 대검', '수호 천사', '거인 학살자', '용의 발톱', '태양불꽃 망토']]\n",
      "[['4 처형자', '6 나무정령', '1 대장장이', '2 싸움꾼', '2 귀감'], ['마오카이', '라칸', '룰루', '누누와 윌럼프', '킨드레드', '자야', '케일', '오른'], ['워모그의 갑옷', '태양불꽃 망토', '마법공학 총검', '피바라기', '죽음의 검', '수호 천사', '수은', '고속 연사포']]\n",
      "[['6 학살자', '4 명사수', '1 무모한 자', '1 닌자'], ['트리스타나', '제드', '파이크', '다리우스', '시비르', '올라프', '트린다미어', '사미라'], ['지크의 전령', '지크의 전령', '얼어붙은 심장', '얼어붙은 심장', '워모그의 갑옷', '루난의 허리케인', '루난의 허리케인', '고속 연사포']]\n",
      "[['6 신성', '4 흡수자', '2 선지자'], ['나서스', '오공', '블라디미르', '잭스', '이렐리아', '모르가나', '케일', '스웨인'], ['보석 건틀릿', '거인의 결의', '용의 발톱', '강철의 솔라리 펜던트', '모렐로노미콘', '힘의 성배', '고속 연사포', '구인수의 격노검']]\n",
      "[['6 암살자', '4 영혼', '1 닌자'], ['다이애나', '티모', '파이크', '아칼리', '유미', '카타리나', '킨드레드', '탈론'], ['거인의 결의', '마법공학 총검', '무한의 대검', '고속 연사포', '푸른 파수꾼', '힘의 성배', '힘의 성배', '지크의 전령']]\n",
      "['싸움꾼', '광신도', '대장군사미라', '요술사', '처형자신성', '처형자조율자신성', '선봉학살올라프', '대장군학살자', '나무정령', '선봉신비우화', '용의영혼', '결투가조율자', '흡수자선지자', '처형자나무정령', '학살자명사수', '흡수자신성', '암살자영혼']\n"
     ]
    }
   ],
   "source": [
    "for i in final_set:\n",
    "    print(i)"
   ]
  },
  {
   "cell_type": "code",
   "execution_count": 72,
   "metadata": {},
   "outputs": [],
   "source": [
    "for i in final_set[:-1]:\n",
    "    #before : 아이템들의 리스트\n",
    "    before = i.pop()\n",
    "    #after : 아이템들 분해후 리스트\n",
    "    after = decomposition_item(item_list,before)\n",
    "    af = list(set(after))\n",
    "    for index, value in enumerate(af):\n",
    "        if value[0].isnumeric():\n",
    "            break\n",
    "        af_tp = af[index]\n",
    "        af[index] = str(after.count(value))+af_tp\n",
    "#     print(af)\n",
    "    i.append(af)"
   ]
  },
  {
   "cell_type": "code",
   "execution_count": 73,
   "metadata": {},
   "outputs": [
    {
     "name": "stdout",
     "output_type": "stream",
     "text": [
      "[['8 싸움꾼', '1 우두머리', '1 대장장이', '3 나무정령'], ['마오카이', '탐 켄치', '바이', '누누와 윌럼프', '쉬바나', '초가스', '세트', '오른'], ['2곡궁', '1음전자 망토', '2B.F. 대검', '1거인의 허리띠', '2여신의 눈물', '4쓸데없이 큰 지팡이', '1쇠사슬 조끼', '3연습용 장갑']]\n",
      "[['9 광신도'], ['트위스티드 페이트', '엘리스', '블라디미르', '파이크', '시비르', '칼리스타', '아트록스', '질리언'], ['5곡궁', '3음전자 망토', '1B.F. 대검', '2거인의 허리띠', '1여신의 눈물', '1쓸데없이 큰 지팡이', '2쇠사슬 조끼', '1연습용 장갑']]\n",
      "[['9 대장군', '1 무모한 자', '1 황제', '3 학살자', '2 귀감', '2 암살자', '2 명사수'], ['가렌', '니달리', '바이', '자르반 4세', '파이크', '카타리나', '트린다미어', '사미라', '아지르'], ['2곡궁', '3음전자 망토', '3B.F. 대검', '2거인의 허리띠', '1뒤집개', '1여신의 눈물', '1쓸데없이 큰 지팡이', '2쇠사슬 조끼', '1연습용 장갑']]\n",
      "[['7 요술사', '1 대장장이', '3 용의 영혼', '3 나무정령', '2 선봉대'], ['브랜드', '트위스티드 페이트', '룰루', '브라움', '애니', '베이가', '아우렐리온 솔', '오른'], ['1곡궁', '4음전자 망토', '2B.F. 대검', '1거인의 허리띠', '2여신의 눈물', '2쓸데없이 큰 지팡이', '3쇠사슬 조끼', '1연습용 장갑']]\n",
      "[['4 처형자', '4 신성', '2 영혼', '2 조율자', '2 결투가', '2 신비술사', '1 닌자'], ['잭스', '유미', '이렐리아', '킨드레드', '쉔', '자야', '케일', '리 신'], ['6곡궁', '3음전자 망토', '2B.F. 대검', '2거인의 허리띠', '3여신의 눈물', '1쓸데없이 큰 지팡이', '1연습용 장갑']]\n",
      "[['3 처형자', '3 조율자', '4 신성', '2 영혼', '2 신비술사', '1 추방자', '1 닌자'], ['유미', '이렐리아', '킨드레드', '쉔', '자야', '케일', '리 신', '요네'], ['3곡궁', '2음전자 망토', '2B.F. 대검', '2거인의 허리띠', '3여신의 눈물', '3쓸데없이 큰 지팡이', '1연습용 장갑']]\n",
      "[['1 무모한 자', '1 대장장이', '4 선봉대', '3 광신도', '3 용의 영혼', '3 학살자', '2 명사수'], ['트리스타나', '브라움', '파이크', '세주아니', '아트록스', '올라프', '사미라', '오른', '질리언'], ['2곡궁', '1음전자 망토', '4B.F. 대검', '2거인의 허리띠', '1여신의 눈물', '1쓸데없이 큰 지팡이', '3쇠사슬 조끼', '2연습용 장갑']]\n",
      "[['6 대장군', '1 무모한 자', '1 황제', '3 학살자', '2 결투가', '2 귀감', '2 명사수'], ['니달리', '자르반 4세', '카타리나', '올라프', '트린다미어', '리 신', '사미라', '아지르'], ['4곡궁', '2음전자 망토', '3B.F. 대검', '1여신의 눈물', '1쓸데없이 큰 지팡이', '2쇠사슬 조끼', '3연습용 장갑']]\n",
      "[['9 나무정령', '1 우두머리', '1 대장장이', '2 싸움꾼', '2 귀감'], ['마오카이', '라칸', '룰루', '누누와 윌럼프', '베이가', '자야', '세트', '오른'], ['1곡궁', '1음전자 망토', '4B.F. 대검', '1거인의 허리띠', '1뒤집개', '1여신의 눈물', '2쓸데없이 큰 지팡이', '2쇠사슬 조끼', '3연습용 장갑']]\n",
      "[['4 신비술사', '3 우화', '4 선봉대'], ['노틸러스', '잔나', '니코', '유미', '세주아니', '아트록스', '초가스', '질리언'], ['1음전자 망토', '2B.F. 대검', '3거인의 허리띠', '3쓸데없이 큰 지팡이', '5쇠사슬 조끼', '2연습용 장갑']]\n",
      "[['9 용의 영혼', '1 무모한 자', '2 명사수'], ['브랜드', '트리스타나', '브라움', '쉬바나', '아우렐리온 솔', '올라프', '사미라', '스웨인'], ['5곡궁', '4음전자 망토', '1B.F. 대검', '2거인의 허리띠', '1뒤집개', '3쓸데없이 큰 지팡이']]\n",
      "[['6 결투가', '3 조율자', '2 추방자', '2 신성', '2 선지자', '1 닌자'], ['야스오', '피오라', '잭스', '이렐리아', '칼리스타', '쉔', '리 신', '요네'], ['4곡궁', '2음전자 망토', '2B.F. 대검', '5여신의 눈물', '2쓸데없이 큰 지팡이', '1쇠사슬 조끼', '2연습용 장갑']]\n",
      "[['4 흡수자', '4 선지자', '2 신성', '2 암살자', '2 조율자', '2 신비술사', '1 닌자'], ['나서스', '잔나', '파이크', '이렐리아', '모르가나', '쉔', '탈론', '스웨인'], ['1곡궁', '3음전자 망토', '3B.F. 대검', '2거인의 허리띠', '3여신의 눈물', '1쓸데없이 큰 지팡이', '2쇠사슬 조끼', '1연습용 장갑']]\n",
      "[['4 처형자', '6 나무정령', '1 대장장이', '2 싸움꾼', '2 귀감'], ['마오카이', '라칸', '룰루', '누누와 윌럼프', '킨드레드', '자야', '케일', '오른'], ['2곡궁', '2음전자 망토', '5B.F. 대검', '3거인의 허리띠', '1쓸데없이 큰 지팡이', '2쇠사슬 조끼', '1연습용 장갑']]\n",
      "[['6 학살자', '4 명사수', '1 무모한 자', '1 닌자'], ['트리스타나', '제드', '파이크', '다리우스', '시비르', '올라프', '트린다미어', '사미라'], ['4곡궁', '2음전자 망토', '2B.F. 대검', '4거인의 허리띠', '2여신의 눈물', '2쇠사슬 조끼']]\n",
      "[['6 신성', '4 흡수자', '2 선지자'], ['나서스', '오공', '블라디미르', '잭스', '이렐리아', '모르가나', '케일', '스웨인'], ['4곡궁', '3음전자 망토', '1거인의 허리띠', '1여신의 눈물', '4쓸데없이 큰 지팡이', '2쇠사슬 조끼', '1연습용 장갑']]\n",
      "[['6 암살자', '4 영혼', '1 닌자'], ['다이애나', '티모', '파이크', '아칼리', '유미', '카타리나', '킨드레드', '탈론'], ['3곡궁', '2음전자 망토', '3B.F. 대검', '1거인의 허리띠', '4여신의 눈물', '1쓸데없이 큰 지팡이', '1쇠사슬 조끼', '1연습용 장갑']]\n",
      "['싸움꾼', '광신도', '대장군사미라', '요술사', '처형자신성', '처형자조율자신성', '선봉학살올라프', '대장군학살자', '나무정령', '선봉신비우화', '용의영혼', '결투가조율자', '흡수자선지자', '처형자나무정령', '학살자명사수', '흡수자신성', '암살자영혼']\n"
     ]
    }
   ],
   "source": [
    "for i in final_set:\n",
    "    print(i)"
   ]
  },
  {
   "cell_type": "code",
   "execution_count": null,
   "metadata": {},
   "outputs": [],
   "source": []
  },
  {
   "cell_type": "markdown",
   "metadata": {},
   "source": [
    "## 아이템의 갯수를 비교해서 가장 근접한 조합을 넣는다. "
   ]
  },
  {
   "cell_type": "code",
   "execution_count": 74,
   "metadata": {},
   "outputs": [],
   "source": [
    "def match_item(final_set, temp):\n",
    "    tp = []\n",
    "    max_score = 0\n",
    "    now = -1\n",
    "    for i, v in enumerate(final_set):\n",
    "        score = 0\n",
    "        total = 0\n",
    "        for value in temp:\n",
    "            s = int(value[0])\n",
    "            total += s\n",
    "            item = value[1:]\n",
    "            for it in v[1]:\n",
    "#                 print(f'it : {it[1:]}, item : {item}')\n",
    "                if it[1:] == item:\n",
    "                    score += min(s,int(it[0]))\n",
    "                    break\n",
    "        if max_score < score:\n",
    "            max_score = score\n",
    "            now = i\n",
    "    \n",
    "    if now != -1:\n",
    "        tp.append(final_set[-1][now])\n",
    "        tp.append(round(max_score/total,2))\n",
    "    else:\n",
    "        tp.append(0)\n",
    "        tp.append(0)\n",
    "    \n",
    "    return tp"
   ]
  },
  {
   "cell_type": "code",
   "execution_count": 103,
   "metadata": {},
   "outputs": [
    {
     "name": "stdout",
     "output_type": "stream",
     "text": [
      "[[['8 싸움꾼', '1 우두머리', '1 대장장이', '3 나무정령'], ['마오카이', '탐 켄치', '바이', '누누와 윌럼프', '쉬바나', '초가스', '세트', '오른'], ['2곡궁', '1음전자 망토', '2B.F. 대검', '1거인의 허리띠', '2여신의 눈물', '4쓸데없이 큰 지팡이', '1쇠사슬 조끼', '3연습용 장갑']], [['9 광신도'], ['트위스티드 페이트', '엘리스', '블라디미르', '파이크', '시비르', '칼리스타', '아트록스', '질리언'], ['5곡궁', '3음전자 망토', '1B.F. 대검', '2거인의 허리띠', '1여신의 눈물', '1쓸데없이 큰 지팡이', '2쇠사슬 조끼', '1연습용 장갑']], [['9 대장군', '1 무모한 자', '1 황제', '3 학살자', '2 귀감', '2 암살자', '2 명사수'], ['가렌', '니달리', '바이', '자르반 4세', '파이크', '카타리나', '트린다미어', '사미라', '아지르'], ['2곡궁', '3음전자 망토', '3B.F. 대검', '2거인의 허리띠', '1뒤집개', '1여신의 눈물', '1쓸데없이 큰 지팡이', '2쇠사슬 조끼', '1연습용 장갑']], [['7 요술사', '1 대장장이', '3 용의 영혼', '3 나무정령', '2 선봉대'], ['브랜드', '트위스티드 페이트', '룰루', '브라움', '애니', '베이가', '아우렐리온 솔', '오른'], ['1곡궁', '4음전자 망토', '2B.F. 대검', '1거인의 허리띠', '2여신의 눈물', '2쓸데없이 큰 지팡이', '3쇠사슬 조끼', '1연습용 장갑']], [['4 처형자', '4 신성', '2 영혼', '2 조율자', '2 결투가', '2 신비술사', '1 닌자'], ['잭스', '유미', '이렐리아', '킨드레드', '쉔', '자야', '케일', '리 신'], ['6곡궁', '3음전자 망토', '2B.F. 대검', '2거인의 허리띠', '3여신의 눈물', '1쓸데없이 큰 지팡이', '1연습용 장갑']], [['3 처형자', '3 조율자', '4 신성', '2 영혼', '2 신비술사', '1 추방자', '1 닌자'], ['유미', '이렐리아', '킨드레드', '쉔', '자야', '케일', '리 신', '요네'], ['3곡궁', '2음전자 망토', '2B.F. 대검', '2거인의 허리띠', '3여신의 눈물', '3쓸데없이 큰 지팡이', '1연습용 장갑']], [['1 무모한 자', '1 대장장이', '4 선봉대', '3 광신도', '3 용의 영혼', '3 학살자', '2 명사수'], ['트리스타나', '브라움', '파이크', '세주아니', '아트록스', '올라프', '사미라', '오른', '질리언'], ['2곡궁', '1음전자 망토', '4B.F. 대검', '2거인의 허리띠', '1여신의 눈물', '1쓸데없이 큰 지팡이', '3쇠사슬 조끼', '2연습용 장갑']], [['6 대장군', '1 무모한 자', '1 황제', '3 학살자', '2 결투가', '2 귀감', '2 명사수'], ['니달리', '자르반 4세', '카타리나', '올라프', '트린다미어', '리 신', '사미라', '아지르'], ['4곡궁', '2음전자 망토', '3B.F. 대검', '1여신의 눈물', '1쓸데없이 큰 지팡이', '2쇠사슬 조끼', '3연습용 장갑']], [['9 나무정령', '1 우두머리', '1 대장장이', '2 싸움꾼', '2 귀감'], ['마오카이', '라칸', '룰루', '누누와 윌럼프', '베이가', '자야', '세트', '오른'], ['1곡궁', '1음전자 망토', '4B.F. 대검', '1거인의 허리띠', '1뒤집개', '1여신의 눈물', '2쓸데없이 큰 지팡이', '2쇠사슬 조끼', '3연습용 장갑']], [['4 신비술사', '3 우화', '4 선봉대'], ['노틸러스', '잔나', '니코', '유미', '세주아니', '아트록스', '초가스', '질리언'], ['1음전자 망토', '2B.F. 대검', '3거인의 허리띠', '3쓸데없이 큰 지팡이', '5쇠사슬 조끼', '2연습용 장갑']], [['9 용의 영혼', '1 무모한 자', '2 명사수'], ['브랜드', '트리스타나', '브라움', '쉬바나', '아우렐리온 솔', '올라프', '사미라', '스웨인'], ['5곡궁', '4음전자 망토', '1B.F. 대검', '2거인의 허리띠', '1뒤집개', '3쓸데없이 큰 지팡이']], [['6 결투가', '3 조율자', '2 추방자', '2 신성', '2 선지자', '1 닌자'], ['야스오', '피오라', '잭스', '이렐리아', '칼리스타', '쉔', '리 신', '요네'], ['4곡궁', '2음전자 망토', '2B.F. 대검', '5여신의 눈물', '2쓸데없이 큰 지팡이', '1쇠사슬 조끼', '2연습용 장갑']], [['4 흡수자', '4 선지자', '2 신성', '2 암살자', '2 조율자', '2 신비술사', '1 닌자'], ['나서스', '잔나', '파이크', '이렐리아', '모르가나', '쉔', '탈론', '스웨인'], ['1곡궁', '3음전자 망토', '3B.F. 대검', '2거인의 허리띠', '3여신의 눈물', '1쓸데없이 큰 지팡이', '2쇠사슬 조끼', '1연습용 장갑']], [['4 처형자', '6 나무정령', '1 대장장이', '2 싸움꾼', '2 귀감'], ['마오카이', '라칸', '룰루', '누누와 윌럼프', '킨드레드', '자야', '케일', '오른'], ['2곡궁', '2음전자 망토', '5B.F. 대검', '3거인의 허리띠', '1쓸데없이 큰 지팡이', '2쇠사슬 조끼', '1연습용 장갑']], [['6 학살자', '4 명사수', '1 무모한 자', '1 닌자'], ['트리스타나', '제드', '파이크', '다리우스', '시비르', '올라프', '트린다미어', '사미라'], ['4곡궁', '2음전자 망토', '2B.F. 대검', '4거인의 허리띠', '2여신의 눈물', '2쇠사슬 조끼']], [['6 신성', '4 흡수자', '2 선지자'], ['나서스', '오공', '블라디미르', '잭스', '이렐리아', '모르가나', '케일', '스웨인'], ['4곡궁', '3음전자 망토', '1거인의 허리띠', '1여신의 눈물', '4쓸데없이 큰 지팡이', '2쇠사슬 조끼', '1연습용 장갑']], [['6 암살자', '4 영혼', '1 닌자'], ['다이애나', '티모', '파이크', '아칼리', '유미', '카타리나', '킨드레드', '탈론'], ['3곡궁', '2음전자 망토', '3B.F. 대검', '1거인의 허리띠', '4여신의 눈물', '1쓸데없이 큰 지팡이', '1쇠사슬 조끼', '1연습용 장갑']], ['싸움꾼', '광신도', '대장군사미라', '요술사', '처형자신성', '처형자조율자신성', '선봉학살올라프', '대장군학살자', '나무정령', '선봉신비우화', '용의영혼', '결투가조율자', '흡수자선지자', '처형자나무정령', '학살자명사수', '흡수자신성', '암살자영혼']]\n",
      "['1곡궁', '3음전자 망토', '1영원한 겨울', '4B.F. 대검', '2거인의 허리띠', '2뒤집개', '5여신의 눈물', '1존야의 역설', '2쓸데없이 큰 지팡이', '1죽음의 저항', '3쇠사슬 조끼', '1란두인의 성소']\n"
     ]
    }
   ],
   "source": [
    "cp = copy.deepcopy(data)\n",
    "for i in cp:\n",
    "    #i[0] : rank // i[1] : 조합 // i[2] : 아이템 // i[3] : 챔프\n",
    "    full_item = i[2]\n",
    "    small_item = decomposition_item(item_list,full_item)\n",
    "    traits = i[1]\n",
    "    \n",
    "    sm = list(set(small_item))\n",
    "    for index, value in enumerate(sm):\n",
    "        #이미 분할 되었으면 break\n",
    "        if value[0].isnumeric():\n",
    "            break\n",
    "        tp_1 = sm[index]\n",
    "        sm[index]= (str(small_item.count(value)))+tp_1\n",
    "#         print(value)\n",
    "    print(final_set)\n",
    "    johab = match_item(final_set, sm)\n",
    "    \n",
    "    print(sm)\n",
    "    break\n",
    "    i.append(sm)\n",
    "    i.append(johab[0])\n",
    "    i[1].sort(reverse=True)"
   ]
  },
  {
   "cell_type": "code",
   "execution_count": 99,
   "metadata": {},
   "outputs": [
    {
     "data": {
      "text/plain": [
       "['B.F. 대검',\n",
       " '거인의 허리띠',\n",
       " '곡궁',\n",
       " '뒤집개',\n",
       " '쇠사슬 조끼',\n",
       " '쓸데없이 큰 지팡이',\n",
       " '여신의 눈물',\n",
       " '연습용 장갑',\n",
       " '음전자 망토']"
      ]
     },
     "execution_count": 99,
     "metadata": {},
     "output_type": "execute_result"
    }
   ],
   "source": [
    "small_itemlist"
   ]
  },
  {
   "cell_type": "code",
   "execution_count": 35,
   "metadata": {},
   "outputs": [],
   "source": [
    "def make_itemlist(arr,items):\n",
    "    item_ct = []\n",
    "    for i in items:\n",
    "        check = 0\n",
    "        for j in arr:\n",
    "            ct = int(j[0])\n",
    "            if i == j[1:]:\n",
    "                item_ct.append(ct)\n",
    "                check = 1\n",
    "                break\n",
    "        if check == 0:\n",
    "            item_ct.append(0)\n",
    "    return item_ct"
   ]
  },
  {
   "cell_type": "code",
   "execution_count": 36,
   "metadata": {},
   "outputs": [],
   "source": [
    "for i,v in enumerate(cp):\n",
    "    jh = str(v.pop())\n",
    "    ar = make_itemlist(v.pop(),small_itemlist)\n",
    "    rank = int(v.pop())\n",
    "    v.append(rank)\n",
    "    v = list(itertools.chain(v,ar))\n",
    "    v.append(jh)\n",
    "    cp[i] = v"
   ]
  },
  {
   "cell_type": "code",
   "execution_count": 39,
   "metadata": {},
   "outputs": [
    {
     "data": {
      "text/plain": [
       "[4, 3, 2, 3, 1, 3, 1, 1, 3, 5, '대장군사미라']"
      ]
     },
     "execution_count": 39,
     "metadata": {},
     "output_type": "execute_result"
    }
   ],
   "source": [
    "v"
   ]
  },
  {
   "cell_type": "code",
   "execution_count": 37,
   "metadata": {},
   "outputs": [
    {
     "name": "stdout",
     "output_type": "stream",
     "text": [
      "11\n",
      "11\n",
      "11\n",
      "11\n",
      "11\n",
      "11\n",
      "11\n",
      "11\n",
      "11\n",
      "11\n"
     ]
    }
   ],
   "source": [
    "for i in cp[:10]:\n",
    "    print(len(i))"
   ]
  },
  {
   "cell_type": "code",
   "execution_count": 41,
   "metadata": {},
   "outputs": [],
   "source": [
    "cp = np.array(cp)"
   ]
  },
  {
   "cell_type": "code",
   "execution_count": 42,
   "metadata": {},
   "outputs": [],
   "source": [
    "columns = list(itertools.chain(['rank'],small_itemlist,['조합']))"
   ]
  },
  {
   "cell_type": "code",
   "execution_count": 43,
   "metadata": {},
   "outputs": [],
   "source": [
    "df = pd.DataFrame(cp,columns=columns)"
   ]
  },
  {
   "cell_type": "code",
   "execution_count": 44,
   "metadata": {},
   "outputs": [
    {
     "data": {
      "text/html": [
       "<div>\n",
       "<style scoped>\n",
       "    .dataframe tbody tr th:only-of-type {\n",
       "        vertical-align: middle;\n",
       "    }\n",
       "\n",
       "    .dataframe tbody tr th {\n",
       "        vertical-align: top;\n",
       "    }\n",
       "\n",
       "    .dataframe thead th {\n",
       "        text-align: right;\n",
       "    }\n",
       "</style>\n",
       "<table border=\"1\" class=\"dataframe\">\n",
       "  <thead>\n",
       "    <tr style=\"text-align: right;\">\n",
       "      <th></th>\n",
       "      <th>rank</th>\n",
       "      <th>B.F. 대검</th>\n",
       "      <th>거인의 허리띠</th>\n",
       "      <th>곡궁</th>\n",
       "      <th>뒤집개</th>\n",
       "      <th>쇠사슬 조끼</th>\n",
       "      <th>쓸데없이 큰 지팡이</th>\n",
       "      <th>여신의 눈물</th>\n",
       "      <th>연습용 장갑</th>\n",
       "      <th>음전자 망토</th>\n",
       "      <th>조합</th>\n",
       "    </tr>\n",
       "  </thead>\n",
       "  <tbody>\n",
       "    <tr>\n",
       "      <th>0</th>\n",
       "      <td>4</td>\n",
       "      <td>6</td>\n",
       "      <td>3</td>\n",
       "      <td>3</td>\n",
       "      <td>0</td>\n",
       "      <td>0</td>\n",
       "      <td>0</td>\n",
       "      <td>2</td>\n",
       "      <td>2</td>\n",
       "      <td>3</td>\n",
       "      <td>처형자신성</td>\n",
       "    </tr>\n",
       "    <tr>\n",
       "      <th>1</th>\n",
       "      <td>1</td>\n",
       "      <td>3</td>\n",
       "      <td>1</td>\n",
       "      <td>2</td>\n",
       "      <td>0</td>\n",
       "      <td>5</td>\n",
       "      <td>2</td>\n",
       "      <td>2</td>\n",
       "      <td>4</td>\n",
       "      <td>3</td>\n",
       "      <td>요술사</td>\n",
       "    </tr>\n",
       "    <tr>\n",
       "      <th>2</th>\n",
       "      <td>3</td>\n",
       "      <td>1</td>\n",
       "      <td>4</td>\n",
       "      <td>1</td>\n",
       "      <td>0</td>\n",
       "      <td>1</td>\n",
       "      <td>3</td>\n",
       "      <td>3</td>\n",
       "      <td>2</td>\n",
       "      <td>4</td>\n",
       "      <td>요술사</td>\n",
       "    </tr>\n",
       "    <tr>\n",
       "      <th>3</th>\n",
       "      <td>2</td>\n",
       "      <td>2</td>\n",
       "      <td>5</td>\n",
       "      <td>5</td>\n",
       "      <td>0</td>\n",
       "      <td>2</td>\n",
       "      <td>1</td>\n",
       "      <td>2</td>\n",
       "      <td>2</td>\n",
       "      <td>3</td>\n",
       "      <td>광신도</td>\n",
       "    </tr>\n",
       "    <tr>\n",
       "      <th>4</th>\n",
       "      <td>3</td>\n",
       "      <td>1</td>\n",
       "      <td>5</td>\n",
       "      <td>3</td>\n",
       "      <td>0</td>\n",
       "      <td>2</td>\n",
       "      <td>1</td>\n",
       "      <td>2</td>\n",
       "      <td>2</td>\n",
       "      <td>1</td>\n",
       "      <td>학살자명사수</td>\n",
       "    </tr>\n",
       "  </tbody>\n",
       "</table>\n",
       "</div>"
      ],
      "text/plain": [
       "  rank B.F. 대검 거인의 허리띠 곡궁 뒤집개 쇠사슬 조끼 쓸데없이 큰 지팡이 여신의 눈물 연습용 장갑 음전자 망토      조합\n",
       "0    4       6       3  3   0      0          0      2      2      3   처형자신성\n",
       "1    1       3       1  2   0      5          2      2      4      3     요술사\n",
       "2    3       1       4  1   0      1          3      3      2      4     요술사\n",
       "3    2       2       5  5   0      2          1      2      2      3     광신도\n",
       "4    3       1       5  3   0      2          1      2      2      1  학살자명사수"
      ]
     },
     "execution_count": 44,
     "metadata": {},
     "output_type": "execute_result"
    }
   ],
   "source": [
    "df.head()"
   ]
  },
  {
   "cell_type": "code",
   "execution_count": 45,
   "metadata": {},
   "outputs": [],
   "source": [
    "df.to_csv('itemlist_ver1.csv',index=False,encoding='utf-8-sig')"
   ]
  },
  {
   "cell_type": "code",
   "execution_count": null,
   "metadata": {},
   "outputs": [],
   "source": []
  },
  {
   "cell_type": "code",
   "execution_count": null,
   "metadata": {},
   "outputs": [],
   "source": []
  },
  {
   "cell_type": "code",
   "execution_count": null,
   "metadata": {},
   "outputs": [],
   "source": []
  },
  {
   "cell_type": "code",
   "execution_count": null,
   "metadata": {},
   "outputs": [],
   "source": []
  },
  {
   "cell_type": "code",
   "execution_count": null,
   "metadata": {},
   "outputs": [],
   "source": []
  },
  {
   "cell_type": "markdown",
   "metadata": {},
   "source": [
    "## 셀레니움을 사용하여서 상위 티어의 전적 가져오기"
   ]
  },
  {
   "cell_type": "code",
   "execution_count": 8,
   "metadata": {},
   "outputs": [],
   "source": [
    "#decks > div > section > div.col-12.col-xl-9\n",
    "\n",
    "#soup를 받아오는 함수\n",
    "def receive_soup(url, hdr):\n",
    "    req = requests.get(url,headers = hdr)\n",
    "    html = req.text\n",
    "    return(BeautifulSoup(html, 'html.parser'))\n",
    "    \n",
    "#url을 받아오면 여기서 s\n",
    "def get_info(url,hdr,driver):\n",
    "    req = requests.get(url,headers = hdr)\n",
    "    html = req.text\n",
    "    soup = BeautifulSoup(html, 'html.parser')\n",
    "    history = soup.find('div',{'class' : 'profile__match-history-v2__filters'}).select('a')[1]['href']\n",
    "    url = history\n",
    "    driver.get(url)\n",
    "    for i in driver.find_elements_by_class_name('toggle-detail'):\n",
    "        i.click()\n",
    "        time.sleep(1)\n",
    "    time.sleep(2)\n",
    "    sp = BeautifulSoup(driver.page_source, 'html.parser')\n",
    "    return sp\n",
    "    \n",
    "options = wd.ChromeOptions()\n",
    "options.add_argument('--window-size=1920,1080')\n",
    "options.add_argument('--headless')\n",
    "options.add_argument('--disable-gpu')\n",
    "driver = wd.Chrome(executable_path=\"/mnt/c/Users/shurona/Documents/chromedriver.exe\", options=options)    \n",
    "url = 'https://lolchess.gg/leaderboards'\n",
    "hdr = {'Accept-Language' : 'Ko_KR', 'User-Agent': 'Mozilla/5.0 (Windows NT 10.0; Win64; x64) AppleWebKit/537.36 (KHTML, like Gecko) Chrome/87.0.4280.88 Safari/537.36'}\n",
    "req = requests.get(url, headers = hdr)\n",
    "html = req.text\n",
    "soup = BeautifulSoup(html, 'html.parser')\n",
    "for i in soup.find('tbody').select('a'):\n",
    "    sp = get_info(i['href'],hdr,driver)\n",
    "    break"
   ]
  },
  {
   "cell_type": "code",
   "execution_count": 12,
   "metadata": {},
   "outputs": [
    {
     "name": "stdout",
     "output_type": "stream",
     "text": [
      "1\n",
      "1 황제 5 황혼 2 귀감 2 조율자 2 신비술사 2 명사수 1 추방자 1 닌자 \n",
      "니달리 쓰레쉬 쉔 진 카시오페아 리븐 아지르 요네 \n",
      "['쓸데없이 큰 지팡이', '쇠사슬 조끼', '곡궁', '거인의 허리띠', '뒤집개', 'B.F. 대검', '음전자 망토', '여신의 눈물']\n",
      "2\n",
      "6 명사수 1 황제 2 황혼 2 신비술사 1 추방자 \n",
      "니달리 베인 티모 징크스 진 카시오페아 아지르 요네 질리언 \n",
      "['쓸데없이 큰 지팡이', '쇠사슬 조끼', '연습용 장갑', '곡궁', '거인의 허리띠', 'B.F. 대검', '음전자 망토', '여신의 눈물']\n",
      "3\n",
      "1 우두머리 4 암살자 3 달빛 3 나무정령 2 싸움꾼 2 현혹술사 1 닌자 \n",
      "마오카이 다이애나 리산드라 파이크 아칼리 카타리나 세트 이즈리얼 \n",
      "['쓸데없이 큰 지팡이', '쇠사슬 조끼', '곡궁', '거인의 허리띠', '뒤집개', 'B.F. 대검', '음전자 망토']\n",
      "4\n",
      "6 신비술사 1 황제 3 요술사 2 황혼 2 현혹술사 1 닌자 \n",
      "잔나 럭스 유미 쉔 카시오페아 릴리아 아지르 이즈리얼 질리언 \n",
      "['쓸데없이 큰 지팡이', '쇠사슬 조끼', '연습용 장갑', '곡궁', '거인의 허리띠', '뒤집개', 'B.F. 대검', '음전자 망토', '여신의 눈물']\n",
      "5\n",
      "1 우두머리 1 황제 6 대장군 3 귀감 2 암살자 2 싸움꾼 \n",
      "니달리 바이 자르반 4세 파이크 카타리나 리븐 세트 아지르 \n",
      "['쓸데없이 큰 지팡이', '쇠사슬 조끼', '연습용 장갑', '거인의 허리띠', 'B.F. 대검', '음전자 망토', '여신의 눈물']\n",
      "6\n",
      "1 우두머리 3 사냥꾼 3 나무정령 3 요술사 2 조율자 2 싸움꾼 2 신비술사 1 추방자 1 닌자 \n",
      "룰루 쉔 워윅 애쉬 릴리아 요네 질리언 세트 \n",
      "['쓸데없이 큰 지팡이', '쇠사슬 조끼', '연습용 장갑', '곡궁', '거인의 허리띠', '뒤집개', 'B.F. 대검', '음전자 망토', '여신의 눈물']\n",
      "7\n",
      "8 결투가 2 추방자 1 황제 3 신성 \n",
      "피오라 야스오 잭스 신 짜오 칼리스타 질리언 리 신 아지르 요네 \n",
      "['쓸데없이 큰 지팡이', '쇠사슬 조끼', '연습용 장갑', '곡궁', '거인의 허리띠', '뒤집개', 'B.F. 대검']\n",
      "8\n",
      "6 귀감 1 황제 3 광신도 3 대장군 2 암살자 1 닌자 \n",
      "엘리스 자르반 4세 파이크 카타리나 케넨 리븐 아트록스 아지르 \n",
      "['쓸데없이 큰 지팡이', '쇠사슬 조끼', '연습용 장갑', '곡궁', '거인의 허리띠', 'B.F. 대검', '음전자 망토', '여신의 눈물']\n",
      "9\n",
      "9 요술사 3 나무정령 \n",
      "트위스티드 페이트 나미 룰루 애니 베이가 아리 릴리아 이즈리얼 \n",
      "['쓸데없이 큰 지팡이', '쇠사슬 조끼', '연습용 장갑', '거인의 허리띠', '뒤집개', 'B.F. 대검', '여신의 눈물']\n",
      "10\n",
      "1 우두머리 1 황제 3 나무정령 2 조율자 2 신비술사 2 신성 2 싸움꾼 2 귀감 2 사냥꾼 1 추방자 1 닌자 \n",
      "유미 쉔 애쉬 워윅 릴리아 이즈리얼 리 신 세트 아지르 요네 \n",
      "['쓸데없이 큰 지팡이', '쇠사슬 조끼', '연습용 장갑', '곡궁', '거인의 허리띠', '뒤집개', 'B.F. 대검', '음전자 망토', '여신의 눈물']\n"
     ]
    }
   ],
   "source": [
    "import itertools\n",
    "count  = 1\n",
    "for i in sp.find_all('div',{'class' : 'profile__match-history-v2__item__detail'}):\n",
    "    for score, value in enumerate(i.find('tbody').find_all('tr')):\n",
    "        print(count)\n",
    "        count += 1\n",
    "        arr=[]\n",
    "        need_item=[]\n",
    "\n",
    "        traits = value.select_one('td[class=traits]')\n",
    "        champions = value.select_one('td[class=champions]')  \n",
    "        for kinds in traits.select('.tft-hexagon-image'):\n",
    "            print(kinds.find('img')['alt'], end = ' ')\n",
    "        print()\n",
    "        for champ in champions.select('.champions__image'):\n",
    "            print(champ.find('img')['alt'], end = ' ')\n",
    "        print()\n",
    "        for items in champions.select('.champions__items'):\n",
    "            if items.find('img') != None:\n",
    "                for i in items.select('img'):\n",
    "                    arr.append(i['data-original-title'])\n",
    "#         print(arr)\n",
    "        for big in arr:\n",
    "            if big in item_list.keys():\n",
    "                for divide in item_list[big]:\n",
    "                    need_item.append(divide)\n",
    "        print(list(set(need_item)))\n",
    "        \n",
    "        \n",
    "        break\n",
    "        print()"
   ]
  },
  {
   "cell_type": "code",
   "execution_count": 13,
   "metadata": {},
   "outputs": [
    {
     "data": {
      "text/plain": [
       "<function __main__.<lambda>(a)>"
      ]
     },
     "execution_count": 13,
     "metadata": {},
     "output_type": "execute_result"
    }
   ],
   "source": [
    "a = [1,2,3]\n",
    "lambda a : a+2"
   ]
  },
  {
   "cell_type": "code",
   "execution_count": null,
   "metadata": {},
   "outputs": [],
   "source": []
  },
  {
   "cell_type": "code",
   "execution_count": null,
   "metadata": {},
   "outputs": [],
   "source": []
  },
  {
   "cell_type": "code",
   "execution_count": 181,
   "metadata": {},
   "outputs": [],
   "source": [
    "# driver = wd.Chrome(executable_path=\"/mnt/c/Users/shurona/Documents/chromedriver.exe\")\n",
    "# url = 'https://lolchess.gg/decks'\n",
    "# driver.get(url)\n",
    "# driver.find_element_by_css_selector('.decks-header__button').click()\n",
    "# time.sleep(5)\n",
    "# html = driver.page_source"
   ]
  },
  {
   "cell_type": "code",
   "execution_count": null,
   "metadata": {},
   "outputs": [],
   "source": []
  }
 ],
 "metadata": {
  "kernelspec": {
   "display_name": "Python 3",
   "language": "python",
   "name": "python3"
  },
  "language_info": {
   "codemirror_mode": {
    "name": "ipython",
    "version": 3
   },
   "file_extension": ".py",
   "mimetype": "text/x-python",
   "name": "python",
   "nbconvert_exporter": "python",
   "pygments_lexer": "ipython3",
   "version": "3.7.4"
  }
 },
 "nbformat": 4,
 "nbformat_minor": 4
}
