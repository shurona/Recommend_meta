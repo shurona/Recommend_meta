{
 "cells": [
  {
   "cell_type": "code",
   "execution_count": 121,
   "metadata": {},
   "outputs": [],
   "source": [
    "from urllib.request import urlopen\n",
    "# from selenium import webdriver as wd \n",
    "from bs4 import BeautifulSoup\n",
    "from tqdm import tqdm\n",
    "\n",
    "import itertools\n",
    "import pandas as pd\n",
    "import numpy as np\n",
    "import requests\n",
    "import time\n",
    "import copy\n",
    "import re"
   ]
  },
  {
   "cell_type": "markdown",
   "metadata": {},
   "source": [
    "## 현재 존재하는 아이템 리스트 가져오기"
   ]
  },
  {
   "cell_type": "code",
   "execution_count": 122,
   "metadata": {},
   "outputs": [],
   "source": [
    "def make_itemlist():\n",
    "    url = 'https://lolchess.gg/items'\n",
    "    hdr = {'Accept-Language' : 'Ko_KR', 'User-Agent': 'Mozilla/5.0 (Windows NT 10.0; Win64; x64) AppleWebKit/537.36 (KHTML, like Gecko) Chrome/87.0.4280.88 Safari/537.36'}\n",
    "    req = requests.get(url, headers = hdr)\n",
    "    html = req.text\n",
    "    soup = BeautifulSoup(html, 'html.parser')\n",
    "\n",
    "    itemdict = {}\n",
    "    for i in soup.find_all('div',{'class':'col-sm-6'}): \n",
    "        arr = []\n",
    "        for index, item in enumerate(i.select('img')):\n",
    "            if index == 2:\n",
    "                itemdict[item.get('alt')] = arr[:]\n",
    "            else:\n",
    "                arr.append(item.get('alt'))\n",
    "        arr.clear()\n",
    "    return itemdict"
   ]
  },
  {
   "cell_type": "code",
   "execution_count": 123,
   "metadata": {},
   "outputs": [
    {
     "data": {
      "text/plain": [
       "{'죽음의 검': ['B.F. 대검', 'B.F. 대검'],\n",
       " '거인 학살자': ['곡궁', 'B.F. 대검'],\n",
       " '수호 천사': ['쇠사슬 조끼', 'B.F. 대검'],\n",
       " '피바라기': ['음전자 망토', 'B.F. 대검'],\n",
       " '마법공학 총검': ['쓸데없이 큰 지팡이', 'B.F. 대검'],\n",
       " '쇼진의 창': ['여신의 눈물', 'B.F. 대검'],\n",
       " '지크의 전령': ['거인의 허리띠', 'B.F. 대검'],\n",
       " '신성의 검': ['뒤집개', 'B.F. 대검'],\n",
       " '무한의 대검': ['연습용 장갑', 'B.F. 대검'],\n",
       " '고속 연사포': ['곡궁', '곡궁'],\n",
       " '거인의 결의': ['쇠사슬 조끼', '곡궁'],\n",
       " '루난의 허리케인': ['음전자 망토', '곡궁'],\n",
       " '구인수의 격노검': ['쓸데없이 큰 지팡이', '곡궁'],\n",
       " '스태틱의 단검': ['여신의 눈물', '곡궁'],\n",
       " '즈롯 차원문': ['거인의 허리띠', '곡궁'],\n",
       " '결투가의 열정': ['뒤집개', '곡궁'],\n",
       " '최후의 속삭임': ['연습용 장갑', '곡궁'],\n",
       " '덤불 조끼': ['쇠사슬 조끼', '쇠사슬 조끼'],\n",
       " '가고일 돌갑옷': ['음전자 망토', '쇠사슬 조끼'],\n",
       " '강철의 솔라리 펜던트': ['쓸데없이 큰 지팡이', '쇠사슬 조끼'],\n",
       " '얼어붙은 심장': ['여신의 눈물', '쇠사슬 조끼'],\n",
       " '태양불꽃 망토': ['거인의 허리띠', '쇠사슬 조끼'],\n",
       " '수호자의 흉갑': ['뒤집개', '쇠사슬 조끼'],\n",
       " '침묵의 장막': ['연습용 장갑', '쇠사슬 조끼'],\n",
       " '용의 발톱': ['음전자 망토', '음전자 망토'],\n",
       " '이온 충격기': ['쓸데없이 큰 지팡이', '음전자 망토'],\n",
       " '힘의 성배': ['여신의 눈물', '음전자 망토'],\n",
       " '서풍': ['거인의 허리띠', '음전자 망토'],\n",
       " '나무정령 새싹': ['뒤집개', '음전자 망토'],\n",
       " '수은': ['연습용 장갑', '음전자 망토'],\n",
       " '라바돈의 죽음모자': ['쓸데없이 큰 지팡이', '쓸데없이 큰 지팡이'],\n",
       " '루덴의 메아리': ['여신의 눈물', '쓸데없이 큰 지팡이'],\n",
       " '모렐로노미콘': ['거인의 허리띠', '쓸데없이 큰 지팡이'],\n",
       " '용의 정령': ['뒤집개', '쓸데없이 큰 지팡이'],\n",
       " '보석 건틀릿': ['연습용 장갑', '쓸데없이 큰 지팡이'],\n",
       " '푸른 파수꾼': ['여신의 눈물', '여신의 눈물'],\n",
       " '구원': ['거인의 허리띠', '여신의 눈물'],\n",
       " '요술사의 모자': ['뒤집개', '여신의 눈물'],\n",
       " '정의의 손길': ['연습용 장갑', '여신의 눈물'],\n",
       " '워모그의 갑옷': ['거인의 허리띠', '거인의 허리띠'],\n",
       " '대장군의 깃발': ['뒤집개', '거인의 허리띠'],\n",
       " '덫 발톱': ['연습용 장갑', '거인의 허리띠'],\n",
       " '대자연의 힘': ['뒤집개', '뒤집개'],\n",
       " '요우무의 유령검': ['연습용 장갑', '뒤집개'],\n",
       " '도적의 장갑': ['연습용 장갑', '연습용 장갑']}"
      ]
     },
     "execution_count": 123,
     "metadata": {},
     "output_type": "execute_result"
    }
   ],
   "source": [
    "make_itemlist()"
   ]
  },
  {
   "cell_type": "markdown",
   "metadata": {},
   "source": [
    "## 아이템 리스트 불러오기"
   ]
  },
  {
   "cell_type": "code",
   "execution_count": 124,
   "metadata": {},
   "outputs": [],
   "source": [
    "item_list = make_itemlist()\n",
    "a = set()\n",
    "for key, value in item_list.items():\n",
    "    for i in value:\n",
    "        a.add(i)\n",
    "a = list(a)\n",
    "a.sort()\n",
    "small_itemlist=a"
   ]
  },
  {
   "cell_type": "code",
   "execution_count": 125,
   "metadata": {},
   "outputs": [
    {
     "data": {
      "text/plain": [
       "['B.F. 대검',\n",
       " '거인의 허리띠',\n",
       " '곡궁',\n",
       " '뒤집개',\n",
       " '쇠사슬 조끼',\n",
       " '쓸데없이 큰 지팡이',\n",
       " '여신의 눈물',\n",
       " '연습용 장갑',\n",
       " '음전자 망토']"
      ]
     },
     "execution_count": 125,
     "metadata": {},
     "output_type": "execute_result"
    }
   ],
   "source": [
    "small_itemlist"
   ]
  },
  {
   "cell_type": "markdown",
   "metadata": {},
   "source": [
    "## 합친 아이템을 분해해서 구성요소를 볼 수 있는 함수"
   ]
  },
  {
   "cell_type": "code",
   "execution_count": 126,
   "metadata": {},
   "outputs": [],
   "source": [
    "def decomposition_item(item_list,arr):\n",
    "    small_item = []\n",
    "    for full in arr:\n",
    "        if full in item_list:\n",
    "            small_item.append(item_list[full][0])\n",
    "            small_item.append(item_list[full][1])\n",
    "        else:\n",
    "            small_item.append(full)\n",
    "        small_item.sort()\n",
    "\n",
    "    return small_item"
   ]
  },
  {
   "cell_type": "code",
   "execution_count": null,
   "metadata": {},
   "outputs": [],
   "source": []
  },
  {
   "cell_type": "markdown",
   "metadata": {},
   "source": [
    "## Beautiful Soup을 이용하여서 상위 티어의 아이템/ 시너지/ 승률 가져오기"
   ]
  },
  {
   "cell_type": "code",
   "execution_count": 255,
   "metadata": {},
   "outputs": [],
   "source": [
    "# url을 이용하여서 html을 받아오는 함수\n",
    "def rcv_sp(hdr, url, check):\n",
    "    req = requests.get(url, headers = hdr)\n",
    "    sp = BeautifulSoup(req.text, 'html.parser')\n",
    "    \n",
    "    if check == 1:\n",
    "        return sp\n",
    "    else : \n",
    "        return sp.find('div',{'class' : 'profile__match-history-v2__filters'}).select('a')[1]['href']\n",
    "\n",
    "#해당 게임의 아이템을 받아오는 함수     \n",
    "def rcv_items(itemsp):\n",
    "    itemlist = []\n",
    "    for i in itemsp:\n",
    "        tp = i.select('.item')\n",
    "        if len(tp) == 0:\n",
    "            continue\n",
    "        for items in tp:\n",
    "            itemlist.append(items['title'])\n",
    "    return itemlist\n",
    "\n",
    "#해당 게임의 조합을 받아오는 함수\n",
    "def rcv_traits(traitsp):\n",
    "    traitslist = []\n",
    "    for i in traitsp:\n",
    "        traitslist.append(i.find('img')['alt'])\n",
    "        \n",
    "    return traitslist\n",
    "    \n",
    "#해당 게임의 챔프들을 받아오는 함수\n",
    "def rcv_units(unitsp):\n",
    "    unitlist = []\n",
    "    mainunitlist = {}\n",
    "    \n",
    "    for unit in unitsp:\n",
    "        it = []\n",
    "        #champ : 챔피언만을 갖옴\n",
    "        champ = unit.select('.tft-champion')[0].find('img')['alt']\n",
    "        unitlist.append(champ)\n",
    "        # mainitem : 챔피언이 아이템을 가진 경우를 보여줌 \n",
    "        mainitem = unit.select('.items')[0].find_all('img')\n",
    "        if len(mainitem) > 0:\n",
    "            for con in mainitem:\n",
    "                it.append(con['title'])\n",
    "            mainunitlist[champ] = it[:]\n",
    "        it.clear()\n",
    "    return unitlist, mainunitlist\n",
    "\n",
    "\n",
    "def print_list(arr):\n",
    "    for i in arr:\n",
    "        print(i)\n",
    "    \n",
    "def main_func():\n",
    "    url = 'https://lolchess.gg/leaderboards'\n",
    "    hdr = {'Accept-Language' : 'Ko_KR', 'User-Agent': 'Mozilla/5.0 (Windows NT 10.0; Win64; x64) AppleWebKit/537.36 (KHTML, like Gecko) Chrome/87.0.4280.88 Safari/537.36'}\n",
    "    req = requests.get(url, headers = hdr)\n",
    "    soup = (BeautifulSoup(req.text,'html.parser'))\n",
    "    #데이터를 저장할 배열\n",
    "    save_data = []\n",
    "    for i in tqdm(soup.find('tbody').select('a')):\n",
    "        #처음에 i 에서 유저의 정보를 받아서 이 유저의 랭크의 soup를 받아온다\n",
    "        sp = rcv_sp(hdr,rcv_sp(hdr,i['href'],0),1)\n",
    "        #하나씩 저장\n",
    "        temp_data = []\n",
    "        for j in sp.select('.profile__match-history-v2__item'):\n",
    "            #rank :  순위\n",
    "            rank = j.find('div',{'class':'placement'}).text.strip()[1]\n",
    "            #traits : 조합\n",
    "            traits = rcv_traits(j.select('.tft-hexagon-image'))\n",
    "            #unit : 챔프\n",
    "            units, champitems = rcv_units(j.select('.unit'))\n",
    "            print(champitems)\n",
    "            \n",
    "            #items : 아이템\n",
    "            items = rcv_items(j.select('.items'))\n",
    "            temp_data.append(rank)\n",
    "            temp_data.append(traits)\n",
    "            temp_data.append(items)\n",
    "            temp_data.append(units)\n",
    "            save_data.append(temp_data[:])\n",
    "            temp_data.clear()\n",
    "            break\n",
    "        break\n",
    "    \n",
    "#         print_list(save_data)\n",
    "    return save_data    \n",
    "    "
   ]
  },
  {
   "cell_type": "code",
   "execution_count": 256,
   "metadata": {},
   "outputs": [
    {
     "name": "stderr",
     "output_type": "stream",
     "text": [
      "\n",
      "\n",
      "\n",
      "\n",
      "\n",
      "  0%|          | 0/100 [00:01<?, ?it/s]\u001b[A\u001b[A\u001b[A\u001b[A\u001b[A"
     ]
    },
    {
     "name": "stdout",
     "output_type": "stream",
     "text": [
      "{'이렐리아': ['죽음의 저항', '용의 정령'], '쉔': ['란두인의 성소', '태양불꽃 망토', '구원'], '리 신': ['존야의 역설'], '세트': ['나무정령 새싹', '거인의 결의', '마법공학 총검'], '요네': ['영원한 겨울', '용의 발톱', '푸른 파수꾼'], '질리언': ['수호 천사', '쇼진의 창', '쇼진의 창']}\n"
     ]
    },
    {
     "name": "stderr",
     "output_type": "stream",
     "text": [
      "\n"
     ]
    }
   ],
   "source": [
    "data = main_func()"
   ]
  },
  {
   "cell_type": "code",
   "execution_count": 33,
   "metadata": {},
   "outputs": [],
   "source": [
    "def find_meta(item_dict):\n",
    "\n",
    "#     driver = wd.Chrome(executable_path=\"/mnt/c/Users/shurona/Documents/chromedriver.exe\")\n",
    "    url = 'https://lolchess.gg/meta'\n",
    "#     driver.get(url)\n",
    "    hdr = {'Accept-Language' : 'Ko_KR'}\n",
    "    req = requests.get(url, headers = hdr)\n",
    "    html = req.text\n",
    "    soup = BeautifulSoup(html, 'html.parser')\n",
    "    \n",
    "    tp = soup.find(\"div\",{\"class\" : \"container-full\"})\n",
    "    \n",
    "    #최종 저장 리스트\n",
    "    final_set = []\n",
    "    \n",
    "    #각각의 내용을 저장할 장소\n",
    "    title = {}\n",
    "    Configuration = []\n",
    "    champ_list = []\n",
    "    items_list = []\n",
    "    main_johap = []\n",
    "    small_title = []\n",
    "    #페이지의 메타를 정리해놓은 표에서 시너지 별로 표를 정리한다. \n",
    "    for i,v in enumerate(tp.select('div[class=guide-meta__deck]')):\n",
    "        #sub 리스트 \n",
    "        sub = []\n",
    "        \n",
    "        #공백 지우기 \n",
    "        del_blank = v.find('div',{\"class\" : \"guide-meta__deck__column name mr-3\"}).text.strip()\n",
    "    \n",
    "        #데이터를 저장할 리스트들\n",
    "        johap_name=''\n",
    "        \n",
    "        #조합 모으기\n",
    "        for find_togle in v.select(\".tft-hexagon-image\"):\n",
    "            num = (find_togle.get('data-tooltip-url')[-1])\n",
    "            word = (find_togle.find('img', alt = True)['alt'])\n",
    "            Configuration.append(str(num) + \" \" + word)\n",
    "        \n",
    "        #챔프 모으기 \n",
    "        for find_champ in v.select(\".tft-champion\"):\n",
    "            name = find_champ.find('img', alt=True)['alt']\n",
    "            champ_list.append(name)\n",
    "\n",
    "        #아이템 모으기\n",
    "        for find_item in v.select(\".tft-items\"):\n",
    "            t = find_item.select('img')\n",
    "            if len(t) == 0:\n",
    "                continue\n",
    "            for trash in t:\n",
    "                trash['alt']\n",
    "        \n",
    "        count = 0\n",
    "        for index,value in enumerate(del_blank):\n",
    "        \n",
    "            if ord('가') <= ord(value) <= ord('힣'):\n",
    "                if count == 0:\n",
    "                    start = index\n",
    "                count=1\n",
    "            else:\n",
    "                if count == 1:\n",
    "                    johap_name = johap_name+(''.join(del_blank[start:index]))\n",
    "                    count = 0\n",
    "        if count == 1:\n",
    "#             small_title.append(del_blank[start:])\n",
    "            johap_name = johap_name+(del_blank[start:])\n",
    "            \n",
    "        small_title.append(johap_name)\n",
    "            \n",
    "        for item in v.find_all('div',{'class':'tft-items'}):\n",
    "            items = item.find_all('img')\n",
    "            if len(items) == 0:\n",
    "                continue\n",
    "            for tem in items:\n",
    "                items_list.append(tem.get('alt'))\n",
    "                \n",
    "                \n",
    "        sub.append(Configuration[:])\n",
    "        sub.append(champ_list[:])\n",
    "        sub.append(items_list[:])\n",
    "        main_johap.append(sub[:])\n",
    "#         title['구성'] = Configuration[:]\n",
    "#         title['챔피언'] = champ_list[:]\n",
    "#         title['아이템'] = items_list[:]\n",
    "\n",
    "        final_set.append(title.copy())\n",
    "        \n",
    "\n",
    "        champ_list.clear()\n",
    "        Configuration.clear()\n",
    "        items_list.clear()\n",
    "        title.clear()\n",
    "        sub.clear()\n",
    "\n",
    "    main_johap.append(small_title)\n",
    "    return main_johap"
   ]
  },
  {
   "cell_type": "code",
   "execution_count": 34,
   "metadata": {},
   "outputs": [],
   "source": [
    "final_set = find_meta(item_list)"
   ]
  },
  {
   "cell_type": "code",
   "execution_count": 35,
   "metadata": {},
   "outputs": [],
   "source": [
    "for i in final_set[:-1]:\n",
    "    #before : 아이템들의 리스트\n",
    "    before = i.pop()\n",
    "    #after : 아이템들 분해후 리스트\n",
    "    after = decomposition_item(item_list,before)\n",
    "    af = list(set(after))\n",
    "    for index, value in enumerate(af):\n",
    "        if value[0].isnumeric():\n",
    "            break\n",
    "        af_tp = af[index]\n",
    "        af[index] = str(after.count(value))+af_tp\n",
    "#     print(af)\n",
    "    i.append(af)"
   ]
  },
  {
   "cell_type": "code",
   "execution_count": 36,
   "metadata": {},
   "outputs": [
    {
     "data": {
      "text/plain": [
       "['싸움꾼',\n",
       " '귀감',\n",
       " '요술사',\n",
       " '처형자신성',\n",
       " '처형자조율자신성',\n",
       " '광신도',\n",
       " '선봉신비우화',\n",
       " '영혼시비르',\n",
       " '선봉학살올라프',\n",
       " '나무정령',\n",
       " '결투가',\n",
       " '용의영혼',\n",
       " '흡수자선지자',\n",
       " '처형자나무정령',\n",
       " '대장군학살자',\n",
       " '학살자명사수',\n",
       " '흡수자신성']"
      ]
     },
     "execution_count": 36,
     "metadata": {},
     "output_type": "execute_result"
    }
   ],
   "source": [
    "final_set[-1]"
   ]
  },
  {
   "cell_type": "code",
   "execution_count": null,
   "metadata": {},
   "outputs": [],
   "source": []
  },
  {
   "cell_type": "code",
   "execution_count": null,
   "metadata": {},
   "outputs": [],
   "source": []
  },
  {
   "cell_type": "markdown",
   "metadata": {},
   "source": [
    "## 아이템의 갯수를 비교해서 가장 근접한 조합을 넣는다. "
   ]
  },
  {
   "cell_type": "code",
   "execution_count": 37,
   "metadata": {},
   "outputs": [],
   "source": [
    "#final_set : 메인조합을 저장해 놓은 리스트\n",
    "#temp : 메인조합을 찾고자하는 전적조합 [갯수+기본아이템]\n",
    "def match_item(final_set, temp):\n",
    "    tp = []\n",
    "    max_score = 0\n",
    "    now = -1\n",
    "    for i, v in enumerate(final_set):\n",
    "        score = 0\n",
    "        total = 0\n",
    "        for value in temp:\n",
    "            #s : 해당 아이템의 갯수\n",
    "            s = int(value[0])\n",
    "            total += s\n",
    "            item = value[1:]\n",
    "            for it in v[2]:\n",
    "#                 print(f'it : {it[1:]}, item : {item}')\n",
    "            # v의 예시 ['3연습용 장갑', '3음전자 망토', '2곡궁', '2B.F. 대검', '2여신의 눈물', '4쓸데없이 큰 지팡이']]\n",
    "                if it[1:] == item:\n",
    "                    score += min(s,int(it[0]))\n",
    "                    break\n",
    "        if max_score < score:\n",
    "            max_score = score\n",
    "            now = i\n",
    "    \n",
    "    if now != -1:\n",
    "        #final set의 마지막에는 조합들이 들어있다. 거기서 now를 찾아서 get \n",
    "        tp.append(final_set[-1][now])\n",
    "        tp.append(round(max_score/total,2))\n",
    "    else:\n",
    "        tp.append(0)\n",
    "        tp.append(0)\n",
    "    \n",
    "    return tp"
   ]
  },
  {
   "cell_type": "code",
   "execution_count": 38,
   "metadata": {},
   "outputs": [
    {
     "name": "stdout",
     "output_type": "stream",
     "text": [
      "dict_keys(['죽음의 검', '거인 학살자', '수호 천사', '피바라기', '마법공학 총검', '쇼진의 창', '지크의 전령', '신성의 검', '무한의 대검', '고속 연사포', '거인의 결의', '루난의 허리케인', '구인수의 격노검', '스태틱의 단검', '즈롯 차원문', '결투가의 열정', '최후의 속삭임', '덤불 조끼', '가고일 돌갑옷', '강철의 솔라리 펜던트', '얼어붙은 심장', '태양불꽃 망토', '수호자의 흉갑', '침묵의 장막', '용의 발톱', '이온 충격기', '힘의 성배', '서풍', '나무정령 새싹', '수은', '라바돈의 죽음모자', '루덴의 메아리', '모렐로노미콘', '용의 정령', '보석 건틀릿', '푸른 파수꾼', '구원', '요술사의 모자', '정의의 손길', '워모그의 갑옷', '대장군의 깃발', '덫 발톱', '대자연의 힘', '요우무의 유령검', '도적의 장갑'])\n"
     ]
    }
   ],
   "source": [
    "index = 0\n",
    "print(item_list.keys())\n",
    "for i,v in item_list.items():\n",
    "    index+=1\n",
    "#     print(i)\n",
    "# index\n",
    "# item_list"
   ]
  },
  {
   "cell_type": "markdown",
   "metadata": {},
   "source": [
    "## 오른의 역설 제거"
   ]
  },
  {
   "cell_type": "code",
   "execution_count": 111,
   "metadata": {},
   "outputs": [],
   "source": [
    "def remove_ornn(arr,itemlist):\n",
    "    tp = itemlist.keys()\n",
    "    arr_return = []\n",
    "    for i in arr:\n",
    "        if i in tp:\n",
    "            arr_return.append(i)\n",
    "    return arr_return  "
   ]
  },
  {
   "cell_type": "markdown",
   "metadata": {},
   "source": [
    "## 근접한 조합을 찾기 위한 data가 도는 반복문"
   ]
  },
  {
   "cell_type": "code",
   "execution_count": 112,
   "metadata": {},
   "outputs": [],
   "source": [
    "cp = copy.deepcopy(data)\n",
    "# item_list : 아이템들을 저장해 놓은 dict \n",
    "# final_set : 메인조합을 담아놓은 dict \n",
    "for i in cp:\n",
    "    #i[0] : rank // i[1] : 조합 // i[2] : 기존 아이템 // i[3] : 챔프 // i[4] 분해된 아이템\n",
    "    full_item = i[2]\n",
    "    \n",
    "    #오른의 걸작 아이템 삭제\n",
    "    full_item = remove_ornn(full_item,item_list)\n",
    "    i[2] = full_item\n",
    "    small_item = decomposition_item(item_list,full_item)\n",
    "    traits = i[1]\n",
    "\n",
    "    # sm : 아이템의 갯수를 확인하기 위해서 중복을 지운 기준 값을 정함\n",
    "    sm = list(set(small_item))\n",
    "    for index, value in enumerate(sm):\n",
    "        #이미 분할 되었으면 break\n",
    "        if value[0].isnumeric():\n",
    "            break\n",
    "        tp_1 = sm[index]\n",
    "        sm[index]= (str(small_item.count(value)))+tp_1\n",
    "    \n",
    "    johab = match_item(final_set, sm)\n",
    "    \n",
    "    #정리된 값을 i에 추가\n",
    "    i.append(sm)\n",
    "    #닯은 정도를 넣어줌 \n",
    "    i[2].append((int(johab[1]*100)))\n",
    "    i.append(johab[0])\n",
    "    i[1].sort(reverse=True)"
   ]
  },
  {
   "cell_type": "code",
   "execution_count": 113,
   "metadata": {},
   "outputs": [],
   "source": [
    "# items : ['B.F. 대검', '거인의 허리띠', '곡궁', '뒤집개', '쇠사슬 조끼', '쓸데없이 큰 지팡이', '여신의 눈물', '연습용 장갑', '음전자 망토']\n",
    "# arr 분해된 아이템\n",
    "def make_itemlist(arr,items):\n",
    "    item_ct = []\n",
    "    for i in items:\n",
    "        check = 0\n",
    "        for j in arr:\n",
    "#             print(j)\n",
    "            ct = int(j[0])\n",
    "            if i == j[1:]:\n",
    "                item_ct.append(ct)\n",
    "                check = 1\n",
    "                break\n",
    "        if check == 0:\n",
    "            item_ct.append(0)\n",
    "    return item_ct"
   ]
  },
  {
   "cell_type": "markdown",
   "metadata": {},
   "source": [
    "## data를 csv로 만들기 위해 분류하는 반복문"
   ]
  },
  {
   "cell_type": "code",
   "execution_count": 114,
   "metadata": {},
   "outputs": [],
   "source": [
    "# for j in cp[:5]:\n",
    "#     for i in j:\n",
    "#         print(i)\n",
    "#     print()"
   ]
  },
  {
   "cell_type": "code",
   "execution_count": 115,
   "metadata": {},
   "outputs": [],
   "source": [
    "# small_itemlist : ['B.F. 대검', '거인의 허리띠', '곡궁', '뒤집개', '쇠사슬 조끼', '쓸데없이 큰 지팡이', '여신의 눈물', '연습용 장갑', '음전자 망토']\n",
    "#v[0] : 랭크 // v[1] : 세부조합 // v[2] : 아이템 v[2][-1] : 메인조합 유사도 // v[3] : 챔피온 // v[4] : 분해된 아이템 // v[5] : 조합 이름\n",
    "#cp_basic 기존의 리스트\n",
    "index = 0\n",
    "cp_basic = []\n",
    "for i,v in enumerate(cp):\n",
    "    index += 1\n",
    "    ar = make_itemlist(v[4],small_itemlist)\n",
    "    #유사도를 옮기기 위해 pop\n",
    "    usado = v[2][-1]\n",
    "    # itemlist 배열에 rank 및 인덱스 추가 ==> index의 경우 외래 키로 사용 예정\n",
    "    ar.insert(0,int(v[0]))\n",
    "    ar.insert(0,index)\n",
    "    ar.append(v[5])\n",
    "    ar.append(usado)\n",
    "#     print(ar)\n",
    "    cp_basic.append(ar)\n",
    "    v[0] = index\n",
    "    v[2] = v[2][:-1]\n",
    "#     break"
   ]
  },
  {
   "cell_type": "code",
   "execution_count": 116,
   "metadata": {},
   "outputs": [
    {
     "name": "stdout",
     "output_type": "stream",
     "text": [
      "1\n",
      "['4 조율자', '3 나무정령', '2 싸움꾼', '2 신성', '2 신비술사', '1 황제', '1 추방자', '1 우두머리', '1 대장장이', '1 닌자']\n",
      "['용의 정령', '태양불꽃 망토', '구원', '나무정령 새싹', '거인의 결의', '마법공학 총검', '용의 발톱', '푸른 파수꾼', '수호 천사', '쇼진의 창', '쇼진의 창']\n",
      "['누누와 윌럼프', '이렐리아', '쉔', '리 신', '세트', '아지르', '오른', '요네', '질리언']\n",
      "['2쓸데없이 큰 지팡이', '3음전자 망토', '2뒤집개', '5여신의 눈물', '1곡궁', '2거인의 허리띠', '4B.F. 대검', '3쇠사슬 조끼']\n",
      "흡수자선지자\n"
     ]
    }
   ],
   "source": [
    "for i in cp[0]:\n",
    "    print(i)"
   ]
  },
  {
   "cell_type": "code",
   "execution_count": 117,
   "metadata": {},
   "outputs": [
    {
     "data": {
      "text/plain": [
       "[1, 2, 4, 2, 1, 2, 3, 2, 5, 0, 3, '흡수자선지자', 68]"
      ]
     },
     "execution_count": 117,
     "metadata": {},
     "output_type": "execute_result"
    }
   ],
   "source": [
    "cp_basic[0]"
   ]
  },
  {
   "cell_type": "code",
   "execution_count": 120,
   "metadata": {},
   "outputs": [
    {
     "name": "stdout",
     "output_type": "stream",
     "text": [
      "8\n"
     ]
    }
   ],
   "source": [
    "ddddd = 0\n",
    "for i in cp_basic:\n",
    "    ddddd = max(ddddd,len(i[-2]))\n",
    "    \n",
    "print(ddddd)"
   ]
  },
  {
   "cell_type": "markdown",
   "metadata": {},
   "source": [
    "## 1. itemlist배열 저장 과정"
   ]
  },
  {
   "cell_type": "code",
   "execution_count": 91,
   "metadata": {},
   "outputs": [],
   "source": [
    "cp_basic = np.array(cp_basic)"
   ]
  },
  {
   "cell_type": "code",
   "execution_count": 88,
   "metadata": {},
   "outputs": [],
   "source": [
    "columns = list(itertools.chain(['id','rank'],small_itemlist,['조합','유사도']))"
   ]
  },
  {
   "cell_type": "code",
   "execution_count": 89,
   "metadata": {},
   "outputs": [],
   "source": [
    "df = pd.DataFrame(cp_basic,columns=columns)"
   ]
  },
  {
   "cell_type": "code",
   "execution_count": 90,
   "metadata": {},
   "outputs": [
    {
     "data": {
      "text/html": [
       "<div>\n",
       "<style scoped>\n",
       "    .dataframe tbody tr th:only-of-type {\n",
       "        vertical-align: middle;\n",
       "    }\n",
       "\n",
       "    .dataframe tbody tr th {\n",
       "        vertical-align: top;\n",
       "    }\n",
       "\n",
       "    .dataframe thead th {\n",
       "        text-align: right;\n",
       "    }\n",
       "</style>\n",
       "<table border=\"1\" class=\"dataframe\">\n",
       "  <thead>\n",
       "    <tr style=\"text-align: right;\">\n",
       "      <th></th>\n",
       "      <th>id</th>\n",
       "      <th>rank</th>\n",
       "      <th>B.F. 대검</th>\n",
       "      <th>거인의 허리띠</th>\n",
       "      <th>곡궁</th>\n",
       "      <th>뒤집개</th>\n",
       "      <th>쇠사슬 조끼</th>\n",
       "      <th>쓸데없이 큰 지팡이</th>\n",
       "      <th>여신의 눈물</th>\n",
       "      <th>연습용 장갑</th>\n",
       "      <th>음전자 망토</th>\n",
       "      <th>조합</th>\n",
       "      <th>유사도</th>\n",
       "    </tr>\n",
       "  </thead>\n",
       "  <tbody>\n",
       "    <tr>\n",
       "      <th>0</th>\n",
       "      <td>1</td>\n",
       "      <td>2</td>\n",
       "      <td>4</td>\n",
       "      <td>2</td>\n",
       "      <td>1</td>\n",
       "      <td>2</td>\n",
       "      <td>3</td>\n",
       "      <td>2</td>\n",
       "      <td>5</td>\n",
       "      <td>0</td>\n",
       "      <td>3</td>\n",
       "      <td>흡수자선지자</td>\n",
       "      <td>68</td>\n",
       "    </tr>\n",
       "    <tr>\n",
       "      <th>1</th>\n",
       "      <td>2</td>\n",
       "      <td>1</td>\n",
       "      <td>2</td>\n",
       "      <td>3</td>\n",
       "      <td>1</td>\n",
       "      <td>1</td>\n",
       "      <td>2</td>\n",
       "      <td>2</td>\n",
       "      <td>2</td>\n",
       "      <td>2</td>\n",
       "      <td>5</td>\n",
       "      <td>요술사</td>\n",
       "      <td>75</td>\n",
       "    </tr>\n",
       "    <tr>\n",
       "      <th>2</th>\n",
       "      <td>3</td>\n",
       "      <td>2</td>\n",
       "      <td>2</td>\n",
       "      <td>5</td>\n",
       "      <td>2</td>\n",
       "      <td>0</td>\n",
       "      <td>2</td>\n",
       "      <td>1</td>\n",
       "      <td>4</td>\n",
       "      <td>2</td>\n",
       "      <td>2</td>\n",
       "      <td>처형자나무정령</td>\n",
       "      <td>75</td>\n",
       "    </tr>\n",
       "    <tr>\n",
       "      <th>3</th>\n",
       "      <td>4</td>\n",
       "      <td>1</td>\n",
       "      <td>0</td>\n",
       "      <td>0</td>\n",
       "      <td>6</td>\n",
       "      <td>1</td>\n",
       "      <td>2</td>\n",
       "      <td>6</td>\n",
       "      <td>2</td>\n",
       "      <td>4</td>\n",
       "      <td>1</td>\n",
       "      <td>결투가</td>\n",
       "      <td>59</td>\n",
       "    </tr>\n",
       "    <tr>\n",
       "      <th>4</th>\n",
       "      <td>5</td>\n",
       "      <td>2</td>\n",
       "      <td>2</td>\n",
       "      <td>4</td>\n",
       "      <td>1</td>\n",
       "      <td>0</td>\n",
       "      <td>2</td>\n",
       "      <td>1</td>\n",
       "      <td>2</td>\n",
       "      <td>3</td>\n",
       "      <td>3</td>\n",
       "      <td>처형자나무정령</td>\n",
       "      <td>83</td>\n",
       "    </tr>\n",
       "  </tbody>\n",
       "</table>\n",
       "</div>"
      ],
      "text/plain": [
       "  id rank B.F. 대검 거인의 허리띠 곡궁 뒤집개 쇠사슬 조끼 쓸데없이 큰 지팡이 여신의 눈물 연습용 장갑 음전자 망토  \\\n",
       "0  1    2       4       2  1   2      3          2      5      0      3   \n",
       "1  2    1       2       3  1   1      2          2      2      2      5   \n",
       "2  3    2       2       5  2   0      2          1      4      2      2   \n",
       "3  4    1       0       0  6   1      2          6      2      4      1   \n",
       "4  5    2       2       4  1   0      2          1      2      3      3   \n",
       "\n",
       "        조합 유사도  \n",
       "0   흡수자선지자  68  \n",
       "1      요술사  75  \n",
       "2  처형자나무정령  75  \n",
       "3      결투가  59  \n",
       "4  처형자나무정령  83  "
      ]
     },
     "execution_count": 90,
     "metadata": {},
     "output_type": "execute_result"
    }
   ],
   "source": [
    "df.head()"
   ]
  },
  {
   "cell_type": "code",
   "execution_count": 91,
   "metadata": {},
   "outputs": [],
   "source": [
    "df.to_csv('itemlist_ver2.csv',index=False,encoding='utf-8-sig')"
   ]
  },
  {
   "cell_type": "code",
   "execution_count": null,
   "metadata": {},
   "outputs": [],
   "source": []
  },
  {
   "cell_type": "markdown",
   "metadata": {},
   "source": [
    "## 2. 조합 상세 저장 과정"
   ]
  },
  {
   "cell_type": "code",
   "execution_count": 92,
   "metadata": {},
   "outputs": [],
   "source": [
    "cpp = np.array(cp)"
   ]
  },
  {
   "cell_type": "code",
   "execution_count": 93,
   "metadata": {},
   "outputs": [],
   "source": [
    "cp_col = [\"id\",\"조합상세\",\"사용된 아이템\",\"사용된 챔프\",\"분해된 아이템\",\"조합이름\"]"
   ]
  },
  {
   "cell_type": "code",
   "execution_count": 94,
   "metadata": {},
   "outputs": [],
   "source": [
    "dfcp = pd.DataFrame(cpp,columns=cp_col)"
   ]
  },
  {
   "cell_type": "code",
   "execution_count": 95,
   "metadata": {},
   "outputs": [],
   "source": [
    "# dfcp['사용된 아이템'].values"
   ]
  },
  {
   "cell_type": "code",
   "execution_count": 98,
   "metadata": {},
   "outputs": [],
   "source": [
    "dfcp['조합상세'] = dfcp['조합상세'].str.join(',')\n",
    "dfcp['사용된 아이템'] = dfcp['사용된 아이템'].str.join(',')\n",
    "dfcp['사용된 챔프'] = dfcp['사용된 챔프'].str.join(',')\n",
    "dfcp['분해된 아이템'] = dfcp['분해된 아이템'].str.join(',')"
   ]
  },
  {
   "cell_type": "code",
   "execution_count": 100,
   "metadata": {},
   "outputs": [
    {
     "data": {
      "text/html": [
       "<div>\n",
       "<style scoped>\n",
       "    .dataframe tbody tr th:only-of-type {\n",
       "        vertical-align: middle;\n",
       "    }\n",
       "\n",
       "    .dataframe tbody tr th {\n",
       "        vertical-align: top;\n",
       "    }\n",
       "\n",
       "    .dataframe thead th {\n",
       "        text-align: right;\n",
       "    }\n",
       "</style>\n",
       "<table border=\"1\" class=\"dataframe\">\n",
       "  <thead>\n",
       "    <tr style=\"text-align: right;\">\n",
       "      <th></th>\n",
       "      <th>id</th>\n",
       "      <th>조합상세</th>\n",
       "      <th>사용된 아이템</th>\n",
       "      <th>사용된 챔프</th>\n",
       "      <th>분해된 아이템</th>\n",
       "      <th>조합이름</th>\n",
       "    </tr>\n",
       "  </thead>\n",
       "  <tbody>\n",
       "    <tr>\n",
       "      <th>0</th>\n",
       "      <td>1</td>\n",
       "      <td>4 조율자,3 나무정령,2 싸움꾼,2 신성,2 신비술사,1 황제,1 추방자,1 우두...</td>\n",
       "      <td>용의 정령,태양불꽃 망토,구원,나무정령 새싹,거인의 결의,마법공학 총검,용의 발톱,...</td>\n",
       "      <td>누누와 윌럼프,이렐리아,쉔,리 신,세트,아지르,오른,요네,질리언</td>\n",
       "      <td>2쓸데없이 큰 지팡이,3음전자 망토,2뒤집개,5여신의 눈물,1곡궁,2거인의 허리띠,...</td>\n",
       "      <td>흡수자선지자</td>\n",
       "    </tr>\n",
       "    <tr>\n",
       "      <th>1</th>\n",
       "      <td>2</td>\n",
       "      <td>7 요술사,3 용의 영혼,3 나무정령,2 흡수자,1 황제</td>\n",
       "      <td>루난의 허리케인,서풍,힘의 성배,정의의 손길,마법공학 총검,수호 천사,보석 건틀릿,...</td>\n",
       "      <td>브랜드,트위스티드 페이트,룰루,애니,베이가,모르가나,아우렐리온 솔,아지르,스웨인</td>\n",
       "      <td>2연습용 장갑,2쓸데없이 큰 지팡이,5음전자 망토,1뒤집개,2여신의 눈물,1곡궁,3...</td>\n",
       "      <td>요술사</td>\n",
       "    </tr>\n",
       "    <tr>\n",
       "      <th>2</th>\n",
       "      <td>3</td>\n",
       "      <td>6 학살자,3 용의 영혼,2 선봉대,2 명사수,1 무모한 자,1 닌자</td>\n",
       "      <td>구원,힘의 성배,지크의 전령,침묵의 장막,워모그의 갑옷,모렐로노미콘,얼어붙은 심장,...</td>\n",
       "      <td>트리스타나,제드,브라움,파이크,다리우스,세주아니,올라프,사미라</td>\n",
       "      <td>2연습용 장갑,1쓸데없이 큰 지팡이,2음전자 망토,4여신의 눈물,2곡궁,5거인의 허...</td>\n",
       "      <td>처형자나무정령</td>\n",
       "    </tr>\n",
       "    <tr>\n",
       "      <th>3</th>\n",
       "      <td>4</td>\n",
       "      <td>6 용의 영혼,4 선봉대,3 학살자,2 명사수,1 무모한 자,1 대장장이</td>\n",
       "      <td>도적의 장갑,스태틱의 단검,라바돈의 죽음모자,구인수의 격노검,구인수의 격노검,정의의...</td>\n",
       "      <td>트리스타나,브랜드,브라움,세주아니,아트록스,올라프,스웨인,오른,사미라</td>\n",
       "      <td>4연습용 장갑,6쓸데없이 큰 지팡이,1음전자 망토,1뒤집개,6곡궁,2여신의 눈물,2...</td>\n",
       "      <td>결투가</td>\n",
       "    </tr>\n",
       "    <tr>\n",
       "      <th>4</th>\n",
       "      <td>5</td>\n",
       "      <td>7 대장군,2 암살자,2 싸움꾼,2 귀감,1 황제,1 추방자,1 우두머리</td>\n",
       "      <td>정의의 손길,서풍,태양불꽃 망토,덫 발톱,수은,마법공학 총검,거인의 결의,지크의 전...</td>\n",
       "      <td>니달리,파이크,바이,자르반 4세,카타리나,트린다미어,세트,아지르,아지르,요네</td>\n",
       "      <td>3연습용 장갑,1쓸데없이 큰 지팡이,3음전자 망토,2여신의 눈물,1곡궁,4거인의 허...</td>\n",
       "      <td>처형자나무정령</td>\n",
       "    </tr>\n",
       "  </tbody>\n",
       "</table>\n",
       "</div>"
      ],
      "text/plain": [
       "  id                                               조합상세  \\\n",
       "0  1  4 조율자,3 나무정령,2 싸움꾼,2 신성,2 신비술사,1 황제,1 추방자,1 우두...   \n",
       "1  2                    7 요술사,3 용의 영혼,3 나무정령,2 흡수자,1 황제   \n",
       "2  3             6 학살자,3 용의 영혼,2 선봉대,2 명사수,1 무모한 자,1 닌자   \n",
       "3  4           6 용의 영혼,4 선봉대,3 학살자,2 명사수,1 무모한 자,1 대장장이   \n",
       "4  5           7 대장군,2 암살자,2 싸움꾼,2 귀감,1 황제,1 추방자,1 우두머리   \n",
       "\n",
       "                                             사용된 아이템  \\\n",
       "0  용의 정령,태양불꽃 망토,구원,나무정령 새싹,거인의 결의,마법공학 총검,용의 발톱,...   \n",
       "1  루난의 허리케인,서풍,힘의 성배,정의의 손길,마법공학 총검,수호 천사,보석 건틀릿,...   \n",
       "2  구원,힘의 성배,지크의 전령,침묵의 장막,워모그의 갑옷,모렐로노미콘,얼어붙은 심장,...   \n",
       "3  도적의 장갑,스태틱의 단검,라바돈의 죽음모자,구인수의 격노검,구인수의 격노검,정의의...   \n",
       "4  정의의 손길,서풍,태양불꽃 망토,덫 발톱,수은,마법공학 총검,거인의 결의,지크의 전...   \n",
       "\n",
       "                                         사용된 챔프  \\\n",
       "0           누누와 윌럼프,이렐리아,쉔,리 신,세트,아지르,오른,요네,질리언   \n",
       "1  브랜드,트위스티드 페이트,룰루,애니,베이가,모르가나,아우렐리온 솔,아지르,스웨인   \n",
       "2            트리스타나,제드,브라움,파이크,다리우스,세주아니,올라프,사미라   \n",
       "3        트리스타나,브랜드,브라움,세주아니,아트록스,올라프,스웨인,오른,사미라   \n",
       "4    니달리,파이크,바이,자르반 4세,카타리나,트린다미어,세트,아지르,아지르,요네   \n",
       "\n",
       "                                             분해된 아이템     조합이름  \n",
       "0  2쓸데없이 큰 지팡이,3음전자 망토,2뒤집개,5여신의 눈물,1곡궁,2거인의 허리띠,...   흡수자선지자  \n",
       "1  2연습용 장갑,2쓸데없이 큰 지팡이,5음전자 망토,1뒤집개,2여신의 눈물,1곡궁,3...      요술사  \n",
       "2  2연습용 장갑,1쓸데없이 큰 지팡이,2음전자 망토,4여신의 눈물,2곡궁,5거인의 허...  처형자나무정령  \n",
       "3  4연습용 장갑,6쓸데없이 큰 지팡이,1음전자 망토,1뒤집개,6곡궁,2여신의 눈물,2...      결투가  \n",
       "4  3연습용 장갑,1쓸데없이 큰 지팡이,3음전자 망토,2여신의 눈물,1곡궁,4거인의 허...  처형자나무정령  "
      ]
     },
     "execution_count": 100,
     "metadata": {},
     "output_type": "execute_result"
    }
   ],
   "source": [
    "dfcp.head()"
   ]
  },
  {
   "cell_type": "code",
   "execution_count": null,
   "metadata": {},
   "outputs": [],
   "source": []
  },
  {
   "cell_type": "code",
   "execution_count": 102,
   "metadata": {},
   "outputs": [],
   "source": [
    "dfcp.to_csv('item_sebu_ver2.csv',index=False,encoding='utf-8-sig')"
   ]
  },
  {
   "cell_type": "code",
   "execution_count": 103,
   "metadata": {},
   "outputs": [],
   "source": [
    "pd_tp = pd.read_csv('item_sebu_ver1.csv')"
   ]
  },
  {
   "cell_type": "code",
   "execution_count": 104,
   "metadata": {},
   "outputs": [
    {
     "data": {
      "text/html": [
       "<div>\n",
       "<style scoped>\n",
       "    .dataframe tbody tr th:only-of-type {\n",
       "        vertical-align: middle;\n",
       "    }\n",
       "\n",
       "    .dataframe tbody tr th {\n",
       "        vertical-align: top;\n",
       "    }\n",
       "\n",
       "    .dataframe thead th {\n",
       "        text-align: right;\n",
       "    }\n",
       "</style>\n",
       "<table border=\"1\" class=\"dataframe\">\n",
       "  <thead>\n",
       "    <tr style=\"text-align: right;\">\n",
       "      <th></th>\n",
       "      <th>id</th>\n",
       "      <th>조합상세</th>\n",
       "      <th>사용된 아이템</th>\n",
       "      <th>사용된 챔프</th>\n",
       "      <th>분해된 아이템</th>\n",
       "      <th>조합이름</th>\n",
       "    </tr>\n",
       "  </thead>\n",
       "  <tbody>\n",
       "    <tr>\n",
       "      <th>0</th>\n",
       "      <td>1</td>\n",
       "      <td>4 조율자,3 나무정령,2 싸움꾼,2 신성,2 신비술사,1 황제,1 추방자,1 우두...</td>\n",
       "      <td>용의 정령,태양불꽃 망토,구원,나무정령 새싹,거인의 결의,마법공학 총검,용의 발톱,...</td>\n",
       "      <td>누누와 윌럼프,이렐리아,쉔,리 신,세트,아지르,오른,요네,질리언</td>\n",
       "      <td>4B.F. 대검,2뒤집개,2거인의 허리띠,2쓸데없이 큰 지팡이,3쇠사슬 조끼,1곡궁...</td>\n",
       "      <td>흡수자선지자</td>\n",
       "    </tr>\n",
       "    <tr>\n",
       "      <th>1</th>\n",
       "      <td>2</td>\n",
       "      <td>7 요술사,3 용의 영혼,3 나무정령,2 흡수자,1 황제</td>\n",
       "      <td>루난의 허리케인,서풍,힘의 성배,정의의 손길,마법공학 총검,수호 천사,보석 건틀릿,...</td>\n",
       "      <td>브랜드,트위스티드 페이트,룰루,애니,베이가,모르가나,아우렐리온 솔,아지르,스웨인</td>\n",
       "      <td>2B.F. 대검,1뒤집개,3거인의 허리띠,2쓸데없이 큰 지팡이,2쇠사슬 조끼,1곡궁...</td>\n",
       "      <td>요술사</td>\n",
       "    </tr>\n",
       "    <tr>\n",
       "      <th>2</th>\n",
       "      <td>3</td>\n",
       "      <td>6 학살자,3 용의 영혼,2 선봉대,2 명사수,1 무모한 자,1 닌자</td>\n",
       "      <td>구원,힘의 성배,지크의 전령,침묵의 장막,워모그의 갑옷,모렐로노미콘,얼어붙은 심장,...</td>\n",
       "      <td>트리스타나,제드,브라움,파이크,다리우스,세주아니,올라프,사미라</td>\n",
       "      <td>2B.F. 대검,5거인의 허리띠,1쓸데없이 큰 지팡이,2쇠사슬 조끼,2곡궁,2음전자...</td>\n",
       "      <td>처형자나무정령</td>\n",
       "    </tr>\n",
       "    <tr>\n",
       "      <th>3</th>\n",
       "      <td>4</td>\n",
       "      <td>6 용의 영혼,4 선봉대,3 학살자,2 명사수,1 무모한 자,1 대장장이</td>\n",
       "      <td>도적의 장갑,스태틱의 단검,라바돈의 죽음모자,구인수의 격노검,구인수의 격노검,정의의...</td>\n",
       "      <td>트리스타나,브랜드,브라움,세주아니,아트록스,올라프,스웨인,오른,사미라</td>\n",
       "      <td>1뒤집개,6쓸데없이 큰 지팡이,2쇠사슬 조끼,6곡궁,1음전자 망토,2여신의 눈물,4...</td>\n",
       "      <td>결투가</td>\n",
       "    </tr>\n",
       "    <tr>\n",
       "      <th>4</th>\n",
       "      <td>5</td>\n",
       "      <td>7 대장군,2 암살자,2 싸움꾼,2 귀감,1 황제,1 추방자,1 우두머리</td>\n",
       "      <td>정의의 손길,서풍,태양불꽃 망토,덫 발톱,수은,마법공학 총검,거인의 결의,지크의 전...</td>\n",
       "      <td>니달리,파이크,바이,자르반 4세,카타리나,트린다미어,세트,아지르,아지르,요네</td>\n",
       "      <td>2B.F. 대검,4거인의 허리띠,1쓸데없이 큰 지팡이,2쇠사슬 조끼,1곡궁,3음전자...</td>\n",
       "      <td>처형자나무정령</td>\n",
       "    </tr>\n",
       "  </tbody>\n",
       "</table>\n",
       "</div>"
      ],
      "text/plain": [
       "   id                                               조합상세  \\\n",
       "0   1  4 조율자,3 나무정령,2 싸움꾼,2 신성,2 신비술사,1 황제,1 추방자,1 우두...   \n",
       "1   2                    7 요술사,3 용의 영혼,3 나무정령,2 흡수자,1 황제   \n",
       "2   3             6 학살자,3 용의 영혼,2 선봉대,2 명사수,1 무모한 자,1 닌자   \n",
       "3   4           6 용의 영혼,4 선봉대,3 학살자,2 명사수,1 무모한 자,1 대장장이   \n",
       "4   5           7 대장군,2 암살자,2 싸움꾼,2 귀감,1 황제,1 추방자,1 우두머리   \n",
       "\n",
       "                                             사용된 아이템  \\\n",
       "0  용의 정령,태양불꽃 망토,구원,나무정령 새싹,거인의 결의,마법공학 총검,용의 발톱,...   \n",
       "1  루난의 허리케인,서풍,힘의 성배,정의의 손길,마법공학 총검,수호 천사,보석 건틀릿,...   \n",
       "2  구원,힘의 성배,지크의 전령,침묵의 장막,워모그의 갑옷,모렐로노미콘,얼어붙은 심장,...   \n",
       "3  도적의 장갑,스태틱의 단검,라바돈의 죽음모자,구인수의 격노검,구인수의 격노검,정의의...   \n",
       "4  정의의 손길,서풍,태양불꽃 망토,덫 발톱,수은,마법공학 총검,거인의 결의,지크의 전...   \n",
       "\n",
       "                                         사용된 챔프  \\\n",
       "0           누누와 윌럼프,이렐리아,쉔,리 신,세트,아지르,오른,요네,질리언   \n",
       "1  브랜드,트위스티드 페이트,룰루,애니,베이가,모르가나,아우렐리온 솔,아지르,스웨인   \n",
       "2            트리스타나,제드,브라움,파이크,다리우스,세주아니,올라프,사미라   \n",
       "3        트리스타나,브랜드,브라움,세주아니,아트록스,올라프,스웨인,오른,사미라   \n",
       "4    니달리,파이크,바이,자르반 4세,카타리나,트린다미어,세트,아지르,아지르,요네   \n",
       "\n",
       "                                             분해된 아이템     조합이름  \n",
       "0  4B.F. 대검,2뒤집개,2거인의 허리띠,2쓸데없이 큰 지팡이,3쇠사슬 조끼,1곡궁...   흡수자선지자  \n",
       "1  2B.F. 대검,1뒤집개,3거인의 허리띠,2쓸데없이 큰 지팡이,2쇠사슬 조끼,1곡궁...      요술사  \n",
       "2  2B.F. 대검,5거인의 허리띠,1쓸데없이 큰 지팡이,2쇠사슬 조끼,2곡궁,2음전자...  처형자나무정령  \n",
       "3  1뒤집개,6쓸데없이 큰 지팡이,2쇠사슬 조끼,6곡궁,1음전자 망토,2여신의 눈물,4...      결투가  \n",
       "4  2B.F. 대검,4거인의 허리띠,1쓸데없이 큰 지팡이,2쇠사슬 조끼,1곡궁,3음전자...  처형자나무정령  "
      ]
     },
     "execution_count": 104,
     "metadata": {},
     "output_type": "execute_result"
    }
   ],
   "source": [
    "pd_tp.head()"
   ]
  },
  {
   "cell_type": "code",
   "execution_count": 106,
   "metadata": {},
   "outputs": [],
   "source": [
    "pd_numpy = pd_tp.to_numpy()"
   ]
  },
  {
   "cell_type": "code",
   "execution_count": 109,
   "metadata": {},
   "outputs": [],
   "source": [
    "pd_list = pd_numpy.tolist()"
   ]
  },
  {
   "cell_type": "code",
   "execution_count": 110,
   "metadata": {},
   "outputs": [
    {
     "data": {
      "text/plain": [
       "[1,\n",
       " '4 조율자,3 나무정령,2 싸움꾼,2 신성,2 신비술사,1 황제,1 추방자,1 우두머리,1 대장장이,1 닌자',\n",
       " '용의 정령,태양불꽃 망토,구원,나무정령 새싹,거인의 결의,마법공학 총검,용의 발톱,푸른 파수꾼,수호 천사,쇼진의 창,쇼진의 창',\n",
       " '누누와 윌럼프,이렐리아,쉔,리 신,세트,아지르,오른,요네,질리언',\n",
       " '4B.F. 대검,2뒤집개,2거인의 허리띠,2쓸데없이 큰 지팡이,3쇠사슬 조끼,1곡궁,3음전자 망토,5여신의 눈물',\n",
       " '흡수자선지자']"
      ]
     },
     "execution_count": 110,
     "metadata": {},
     "output_type": "execute_result"
    }
   ],
   "source": [
    "pd_list[0]"
   ]
  },
  {
   "cell_type": "code",
   "execution_count": null,
   "metadata": {},
   "outputs": [],
   "source": []
  },
  {
   "cell_type": "code",
   "execution_count": null,
   "metadata": {},
   "outputs": [],
   "source": []
  },
  {
   "cell_type": "code",
   "execution_count": null,
   "metadata": {},
   "outputs": [],
   "source": []
  },
  {
   "cell_type": "markdown",
   "metadata": {},
   "source": [
    "## 셀레니움을 사용하여서 상위 티어의 전적 가져오기"
   ]
  },
  {
   "cell_type": "code",
   "execution_count": 8,
   "metadata": {},
   "outputs": [],
   "source": [
    "#decks > div > section > div.col-12.col-xl-9\n",
    "\n",
    "#soup를 받아오는 함수\n",
    "def receive_soup(url, hdr):\n",
    "    req = requests.get(url,headers = hdr)\n",
    "    html = req.text\n",
    "    return(BeautifulSoup(html, 'html.parser'))\n",
    "    \n",
    "#url을 받아오면 여기서 s\n",
    "def get_info(url,hdr,driver):\n",
    "    req = requests.get(url,headers = hdr)\n",
    "    html = req.text\n",
    "    soup = BeautifulSoup(html, 'html.parser')\n",
    "    history = soup.find('div',{'class' : 'profile__match-history-v2__filters'}).select('a')[1]['href']\n",
    "    url = history\n",
    "    driver.get(url)\n",
    "    for i in driver.find_elements_by_class_name('toggle-detail'):\n",
    "        i.click()\n",
    "        time.sleep(1)\n",
    "    time.sleep(2)\n",
    "    sp = BeautifulSoup(driver.page_source, 'html.parser')\n",
    "    return sp\n",
    "    \n",
    "options = wd.ChromeOptions()\n",
    "options.add_argument('--window-size=1920,1080')\n",
    "options.add_argument('--headless')\n",
    "options.add_argument('--disable-gpu')\n",
    "driver = wd.Chrome(executable_path=\"/mnt/c/Users/shurona/Documents/chromedriver.exe\", options=options)    \n",
    "url = 'https://lolchess.gg/leaderboards'\n",
    "hdr = {'Accept-Language' : 'Ko_KR', 'User-Agent': 'Mozilla/5.0 (Windows NT 10.0; Win64; x64) AppleWebKit/537.36 (KHTML, like Gecko) Chrome/87.0.4280.88 Safari/537.36'}\n",
    "req = requests.get(url, headers = hdr)\n",
    "html = req.text\n",
    "soup = BeautifulSoup(html, 'html.parser')\n",
    "for i in soup.find('tbody').select('a'):\n",
    "    sp = get_info(i['href'],hdr,driver)\n",
    "    break"
   ]
  },
  {
   "cell_type": "code",
   "execution_count": 12,
   "metadata": {},
   "outputs": [
    {
     "name": "stdout",
     "output_type": "stream",
     "text": [
      "1\n",
      "1 황제 5 황혼 2 귀감 2 조율자 2 신비술사 2 명사수 1 추방자 1 닌자 \n",
      "니달리 쓰레쉬 쉔 진 카시오페아 리븐 아지르 요네 \n",
      "['쓸데없이 큰 지팡이', '쇠사슬 조끼', '곡궁', '거인의 허리띠', '뒤집개', 'B.F. 대검', '음전자 망토', '여신의 눈물']\n",
      "2\n",
      "6 명사수 1 황제 2 황혼 2 신비술사 1 추방자 \n",
      "니달리 베인 티모 징크스 진 카시오페아 아지르 요네 질리언 \n",
      "['쓸데없이 큰 지팡이', '쇠사슬 조끼', '연습용 장갑', '곡궁', '거인의 허리띠', 'B.F. 대검', '음전자 망토', '여신의 눈물']\n",
      "3\n",
      "1 우두머리 4 암살자 3 달빛 3 나무정령 2 싸움꾼 2 현혹술사 1 닌자 \n",
      "마오카이 다이애나 리산드라 파이크 아칼리 카타리나 세트 이즈리얼 \n",
      "['쓸데없이 큰 지팡이', '쇠사슬 조끼', '곡궁', '거인의 허리띠', '뒤집개', 'B.F. 대검', '음전자 망토']\n",
      "4\n",
      "6 신비술사 1 황제 3 요술사 2 황혼 2 현혹술사 1 닌자 \n",
      "잔나 럭스 유미 쉔 카시오페아 릴리아 아지르 이즈리얼 질리언 \n",
      "['쓸데없이 큰 지팡이', '쇠사슬 조끼', '연습용 장갑', '곡궁', '거인의 허리띠', '뒤집개', 'B.F. 대검', '음전자 망토', '여신의 눈물']\n",
      "5\n",
      "1 우두머리 1 황제 6 대장군 3 귀감 2 암살자 2 싸움꾼 \n",
      "니달리 바이 자르반 4세 파이크 카타리나 리븐 세트 아지르 \n",
      "['쓸데없이 큰 지팡이', '쇠사슬 조끼', '연습용 장갑', '거인의 허리띠', 'B.F. 대검', '음전자 망토', '여신의 눈물']\n",
      "6\n",
      "1 우두머리 3 사냥꾼 3 나무정령 3 요술사 2 조율자 2 싸움꾼 2 신비술사 1 추방자 1 닌자 \n",
      "룰루 쉔 워윅 애쉬 릴리아 요네 질리언 세트 \n",
      "['쓸데없이 큰 지팡이', '쇠사슬 조끼', '연습용 장갑', '곡궁', '거인의 허리띠', '뒤집개', 'B.F. 대검', '음전자 망토', '여신의 눈물']\n",
      "7\n",
      "8 결투가 2 추방자 1 황제 3 신성 \n",
      "피오라 야스오 잭스 신 짜오 칼리스타 질리언 리 신 아지르 요네 \n",
      "['쓸데없이 큰 지팡이', '쇠사슬 조끼', '연습용 장갑', '곡궁', '거인의 허리띠', '뒤집개', 'B.F. 대검']\n",
      "8\n",
      "6 귀감 1 황제 3 광신도 3 대장군 2 암살자 1 닌자 \n",
      "엘리스 자르반 4세 파이크 카타리나 케넨 리븐 아트록스 아지르 \n",
      "['쓸데없이 큰 지팡이', '쇠사슬 조끼', '연습용 장갑', '곡궁', '거인의 허리띠', 'B.F. 대검', '음전자 망토', '여신의 눈물']\n",
      "9\n",
      "9 요술사 3 나무정령 \n",
      "트위스티드 페이트 나미 룰루 애니 베이가 아리 릴리아 이즈리얼 \n",
      "['쓸데없이 큰 지팡이', '쇠사슬 조끼', '연습용 장갑', '거인의 허리띠', '뒤집개', 'B.F. 대검', '여신의 눈물']\n",
      "10\n",
      "1 우두머리 1 황제 3 나무정령 2 조율자 2 신비술사 2 신성 2 싸움꾼 2 귀감 2 사냥꾼 1 추방자 1 닌자 \n",
      "유미 쉔 애쉬 워윅 릴리아 이즈리얼 리 신 세트 아지르 요네 \n",
      "['쓸데없이 큰 지팡이', '쇠사슬 조끼', '연습용 장갑', '곡궁', '거인의 허리띠', '뒤집개', 'B.F. 대검', '음전자 망토', '여신의 눈물']\n"
     ]
    }
   ],
   "source": [
    "import itertools\n",
    "count  = 1\n",
    "for i in sp.find_all('div',{'class' : 'profile__match-history-v2__item__detail'}):\n",
    "    for score, value in enumerate(i.find('tbody').find_all('tr')):\n",
    "        print(count)\n",
    "        count += 1\n",
    "        arr=[]\n",
    "        need_item=[]\n",
    "\n",
    "        traits = value.select_one('td[class=traits]')\n",
    "        champions = value.select_one('td[class=champions]')  \n",
    "        for kinds in traits.select('.tft-hexagon-image'):\n",
    "            print(kinds.find('img')['alt'], end = ' ')\n",
    "        print()\n",
    "        for champ in champions.select('.champions__image'):\n",
    "            print(champ.find('img')['alt'], end = ' ')\n",
    "        print()\n",
    "        for items in champions.select('.champions__items'):\n",
    "            if items.find('img') != None:\n",
    "                for i in items.select('img'):\n",
    "                    arr.append(i['data-original-title'])\n",
    "#         print(arr)\n",
    "        for big in arr:\n",
    "            if big in item_list.keys():\n",
    "                for divide in item_list[big]:\n",
    "                    need_item.append(divide)\n",
    "        print(list(set(need_item)))\n",
    "        \n",
    "        \n",
    "        break\n",
    "        print()"
   ]
  },
  {
   "cell_type": "code",
   "execution_count": 13,
   "metadata": {},
   "outputs": [
    {
     "data": {
      "text/plain": [
       "<function __main__.<lambda>(a)>"
      ]
     },
     "execution_count": 13,
     "metadata": {},
     "output_type": "execute_result"
    }
   ],
   "source": [
    "a = [1,2,3]\n",
    "lambda a : a+2"
   ]
  },
  {
   "cell_type": "code",
   "execution_count": null,
   "metadata": {},
   "outputs": [],
   "source": []
  },
  {
   "cell_type": "code",
   "execution_count": null,
   "metadata": {},
   "outputs": [],
   "source": []
  },
  {
   "cell_type": "code",
   "execution_count": 181,
   "metadata": {},
   "outputs": [],
   "source": [
    "# driver = wd.Chrome(executable_path=\"/mnt/c/Users/shurona/Documents/chromedriver.exe\")\n",
    "# url = 'https://lolchess.gg/decks'\n",
    "# driver.get(url)\n",
    "# driver.find_element_by_css_selector('.decks-header__button').click()\n",
    "# time.sleep(5)\n",
    "# html = driver.page_source"
   ]
  },
  {
   "cell_type": "code",
   "execution_count": null,
   "metadata": {},
   "outputs": [],
   "source": []
  }
 ],
 "metadata": {
  "kernelspec": {
   "display_name": "Python 3",
   "language": "python",
   "name": "python3"
  },
  "language_info": {
   "codemirror_mode": {
    "name": "ipython",
    "version": 3
   },
   "file_extension": ".py",
   "mimetype": "text/x-python",
   "name": "python",
   "nbconvert_exporter": "python",
   "pygments_lexer": "ipython3",
   "version": "3.7.4"
  }
 },
 "nbformat": 4,
 "nbformat_minor": 4
}
